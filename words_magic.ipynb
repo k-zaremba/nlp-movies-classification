{
 "cells": [
  {
   "cell_type": "markdown",
   "metadata": {},
   "source": [
    "-------------------------------"
   ]
  },
  {
   "cell_type": "code",
   "execution_count": 1,
   "metadata": {},
   "outputs": [
    {
     "name": "stderr",
     "output_type": "stream",
     "text": [
      "C:\\Users\\Kamil\\AppData\\Local\\Temp\\ipykernel_6900\\2958472327.py:3: ParserWarning: Falling back to the 'python' engine because the 'c' engine does not support regex separators (separators > 1 char and different from '\\s+' are interpreted as regex); you can avoid this warning by specifying engine='python'.\n",
      "  df = pd.read_csv('dataset/train_data.txt', sep=\" ::: \", header=None)\n"
     ]
    }
   ],
   "source": [
    "import pandas as pd\n",
    "\n",
    "df = pd.read_csv('dataset/train_data.txt', sep=\" ::: \", header=None)\n",
    "\n",
    "df.drop([0], axis=1, inplace=True)\n",
    "df.rename(columns={1: 'title', 2: 'genre', 3: 'description'}, inplace=True)\n",
    "df = df[[\"title\", \"description\", \"genre\"]]"
   ]
  },
  {
   "cell_type": "code",
   "execution_count": 2,
   "metadata": {},
   "outputs": [
    {
     "data": {
      "text/html": [
       "<div>\n",
       "<style scoped>\n",
       "    .dataframe tbody tr th:only-of-type {\n",
       "        vertical-align: middle;\n",
       "    }\n",
       "\n",
       "    .dataframe tbody tr th {\n",
       "        vertical-align: top;\n",
       "    }\n",
       "\n",
       "    .dataframe thead th {\n",
       "        text-align: right;\n",
       "    }\n",
       "</style>\n",
       "<table border=\"1\" class=\"dataframe\">\n",
       "  <thead>\n",
       "    <tr style=\"text-align: right;\">\n",
       "      <th></th>\n",
       "      <th>title</th>\n",
       "      <th>description</th>\n",
       "      <th>genre</th>\n",
       "    </tr>\n",
       "  </thead>\n",
       "  <tbody>\n",
       "    <tr>\n",
       "      <th>16575</th>\n",
       "      <td>Tilbage til Bagdad (2003)</td>\n",
       "      <td>While the United States and it's allies aim th...</td>\n",
       "      <td>documentary</td>\n",
       "    </tr>\n",
       "    <tr>\n",
       "      <th>9264</th>\n",
       "      <td>Providence (1977)</td>\n",
       "      <td>Clive Langham (Sir John Gielgud) spends one to...</td>\n",
       "      <td>drama</td>\n",
       "    </tr>\n",
       "    <tr>\n",
       "      <th>50164</th>\n",
       "      <td>Vance and Pepe (2011)</td>\n",
       "      <td>In this mockumentary special based on characte...</td>\n",
       "      <td>comedy</td>\n",
       "    </tr>\n",
       "    <tr>\n",
       "      <th>43428</th>\n",
       "      <td>\"Young@Art\" (2013)</td>\n",
       "      <td>Young@Art is a 9-part documentary series about...</td>\n",
       "      <td>documentary</td>\n",
       "    </tr>\n",
       "    <tr>\n",
       "      <th>11257</th>\n",
       "      <td>\"Strip Search\" (2001)</td>\n",
       "      <td>Search for six of New Zealand's sexiest men, l...</td>\n",
       "      <td>documentary</td>\n",
       "    </tr>\n",
       "  </tbody>\n",
       "</table>\n",
       "</div>"
      ],
      "text/plain": [
       "                           title  \\\n",
       "16575  Tilbage til Bagdad (2003)   \n",
       "9264           Providence (1977)   \n",
       "50164      Vance and Pepe (2011)   \n",
       "43428         \"Young@Art\" (2013)   \n",
       "11257      \"Strip Search\" (2001)   \n",
       "\n",
       "                                             description        genre  \n",
       "16575  While the United States and it's allies aim th...  documentary  \n",
       "9264   Clive Langham (Sir John Gielgud) spends one to...        drama  \n",
       "50164  In this mockumentary special based on characte...       comedy  \n",
       "43428  Young@Art is a 9-part documentary series about...  documentary  \n",
       "11257  Search for six of New Zealand's sexiest men, l...  documentary  "
      ]
     },
     "execution_count": 2,
     "metadata": {},
     "output_type": "execute_result"
    }
   ],
   "source": [
    "df.sample(5)"
   ]
  },
  {
   "cell_type": "code",
   "execution_count": 3,
   "metadata": {},
   "outputs": [
    {
     "data": {
      "text/plain": [
       "array(['drama', 'thriller', 'adult', 'documentary', 'comedy', 'crime',\n",
       "       'reality-tv', 'horror', 'sport', 'animation', 'action', 'fantasy',\n",
       "       'short', 'sci-fi', 'music', 'adventure', 'talk-show', 'western',\n",
       "       'family', 'mystery', 'history', 'news', 'biography', 'romance',\n",
       "       'game-show', 'musical', 'war'], dtype=object)"
      ]
     },
     "execution_count": 3,
     "metadata": {},
     "output_type": "execute_result"
    }
   ],
   "source": [
    "df['genre'].unique()"
   ]
  },
  {
   "cell_type": "code",
   "execution_count": 4,
   "metadata": {},
   "outputs": [
    {
     "data": {
      "image/png": "[encoded data removed]",
      "text/plain": [
       "<Figure size 432x288 with 1 Axes>"
      ]
     },
     "metadata": {
      "needs_background": "light"
     },
     "output_type": "display_data"
    }
   ],
   "source": [
    "import matplotlib.pyplot as plt\n",
    "\n",
    "fig, ax = plt.subplots()\n",
    "fig.suptitle(\"genre\", fontsize=12)\n",
    "df[\"genre\"].reset_index().groupby(\"genre\").count().sort_values(by=\"index\").plot(kind=\"barh\", legend=False, ax=ax).grid(axis='x')\n",
    "plt.show()"
   ]
  },
  {
   "cell_type": "code",
   "execution_count": 5,
   "metadata": {},
   "outputs": [],
   "source": [
    "import nltk, re\n",
    "\n",
    "def preprocess_sentence(text, stemm=False, lemm=True, stopwords=None): # process one sentence\n",
    "    # lowercase -> strip -> tokenize -> remove stopwords -> stemm / lemm -> untokenize \n",
    "\n",
    "    # lower & strip\n",
    "    text = text = re.sub(r'[^\\w\\s]', '', str(text).lower().strip())\n",
    "            \n",
    "    # tokenize (convert from string to list)\n",
    "    text_tokens = text.split()\n",
    "    \n",
    "    # remove garbage\n",
    "    text_tokens = [word.lower().strip('!\"#$%&()*+,-./:;<=>?@[\\\\]^_`{|}~\\t\\n') for word in text_tokens]\n",
    "\n",
    "    # remove stopwords\n",
    "    if stopwords is not None:\n",
    "        text_tokens = [word for word in text_tokens if word not in stopwords]\n",
    "                \n",
    "    ## stemming\n",
    "    if stemm:\n",
    "        ps = nltk.stem.porter.PorterStemmer()\n",
    "        text_tokens = [ps.stem(word) for word in text_tokens]\n",
    "                \n",
    "    # lemmatisation \n",
    "    if lemm:\n",
    "        lem = nltk.stem.wordnet.WordNetLemmatizer()\n",
    "        text_tokens = [lem.lemmatize(word) for word in text_tokens]\n",
    "        \n",
    "    # back to string from list\n",
    "    text = \" \".join(text_tokens)\n",
    "    \n",
    "    return text\n",
    "\n",
    "def preprocess_text(text, stopwords): \n",
    "    \n",
    "    # split sentences \n",
    "    sentences = text.split('.')\n",
    "    \n",
    "    # process each sentence\n",
    "    sentences = [preprocess_sentence(s, stopwords=stopwords) for s in sentences]\n",
    "    \n",
    "    result = \". \".join(sentences)\n",
    "    return result\n",
    "    "
   ]
  },
  {
   "cell_type": "code",
   "execution_count": 84,
   "metadata": {},
   "outputs": [
    {
     "data": {
      "text/plain": [
       "['i', 'me', 'my', 'myself', 'we', 'our', 'ours', 'ourselves', 'you', \"you're\"]"
      ]
     },
     "execution_count": 84,
     "metadata": {},
     "output_type": "execute_result"
    }
   ],
   "source": [
    "nltk_stopwords = nltk.corpus.stopwords.words(\"english\")\n",
    "nltk_stopwords[:10]"
   ]
  },
  {
   "cell_type": "code",
   "execution_count": 7,
   "metadata": {},
   "outputs": [
    {
     "data": {
      "text/plain": [
       "'As the bus empties the students for their field trip to the Museum of Natural History, little does the tour guide suspect that the students are there for more than just another tour. First, during the lecture films, the coeds drift into dreams of the most erotic fantasies one can imagine. After the films, they release the emotion of the fantasies in the most erotic and uncommon ways. One slips off to the curator\\'s office for a little \"acquisition. \" Another finds the anthropologist to see what bones can be identified. Even the head teacher isn\\'t immune. Soon the tour is over, but as the bus departs, everyone admits it was quite an education.'"
      ]
     },
     "execution_count": 7,
     "metadata": {},
     "output_type": "execute_result"
    }
   ],
   "source": [
    "df['description'][2]"
   ]
  },
  {
   "cell_type": "code",
   "execution_count": 8,
   "metadata": {},
   "outputs": [
    {
     "data": {
      "text/plain": [
       "'bus empty student field trip museum natural history little tour guide suspect student another tour. first lecture film coeds drift dream erotic fantasy one imagine. film release emotion fantasy erotic uncommon way. one slip curator office little acquisition. another find anthropologist see bone identified. even head teacher isnt immune. soon tour bus departs everyone admits quite education. '"
      ]
     },
     "execution_count": 8,
     "metadata": {},
     "output_type": "execute_result"
    }
   ],
   "source": [
    "preprocess_text(df['description'][2], stopwords=nltk_stopwords)"
   ]
  },
  {
   "cell_type": "code",
   "execution_count": 9,
   "metadata": {},
   "outputs": [],
   "source": [
    "df[\"processed\"] = df[\"description\"].apply(lambda x: preprocess_text(x, stopwords=nltk_stopwords))"
   ]
  },
  {
   "cell_type": "code",
   "execution_count": 10,
   "metadata": {},
   "outputs": [
    {
     "data": {
      "text/html": [
       "<div>\n",
       "<style scoped>\n",
       "    .dataframe tbody tr th:only-of-type {\n",
       "        vertical-align: middle;\n",
       "    }\n",
       "\n",
       "    .dataframe tbody tr th {\n",
       "        vertical-align: top;\n",
       "    }\n",
       "\n",
       "    .dataframe thead th {\n",
       "        text-align: right;\n",
       "    }\n",
       "</style>\n",
       "<table border=\"1\" class=\"dataframe\">\n",
       "  <thead>\n",
       "    <tr style=\"text-align: right;\">\n",
       "      <th></th>\n",
       "      <th>title</th>\n",
       "      <th>description</th>\n",
       "      <th>genre</th>\n",
       "      <th>processed</th>\n",
       "    </tr>\n",
       "  </thead>\n",
       "  <tbody>\n",
       "    <tr>\n",
       "      <th>0</th>\n",
       "      <td>Oscar et la dame rose (2009)</td>\n",
       "      <td>Listening in to a conversation between his doc...</td>\n",
       "      <td>drama</td>\n",
       "      <td>listening conversation doctor parent 10yearold...</td>\n",
       "    </tr>\n",
       "    <tr>\n",
       "      <th>1</th>\n",
       "      <td>Cupid (1997)</td>\n",
       "      <td>A brother and sister with a past incestuous re...</td>\n",
       "      <td>thriller</td>\n",
       "      <td>brother sister past incestuous relationship cu...</td>\n",
       "    </tr>\n",
       "    <tr>\n",
       "      <th>2</th>\n",
       "      <td>Young, Wild and Wonderful (1980)</td>\n",
       "      <td>As the bus empties the students for their fiel...</td>\n",
       "      <td>adult</td>\n",
       "      <td>bus empty student field trip museum natural hi...</td>\n",
       "    </tr>\n",
       "    <tr>\n",
       "      <th>3</th>\n",
       "      <td>The Secret Sin (1915)</td>\n",
       "      <td>To help their unemployed father make ends meet...</td>\n",
       "      <td>drama</td>\n",
       "      <td>help unemployed father make end meet edith twi...</td>\n",
       "    </tr>\n",
       "    <tr>\n",
       "      <th>4</th>\n",
       "      <td>The Unrecovered (2007)</td>\n",
       "      <td>The film's title refers not only to the un-rec...</td>\n",
       "      <td>drama</td>\n",
       "      <td>film title refers unrecovered body ground zero...</td>\n",
       "    </tr>\n",
       "  </tbody>\n",
       "</table>\n",
       "</div>"
      ],
      "text/plain": [
       "                              title  \\\n",
       "0      Oscar et la dame rose (2009)   \n",
       "1                      Cupid (1997)   \n",
       "2  Young, Wild and Wonderful (1980)   \n",
       "3             The Secret Sin (1915)   \n",
       "4            The Unrecovered (2007)   \n",
       "\n",
       "                                         description     genre  \\\n",
       "0  Listening in to a conversation between his doc...     drama   \n",
       "1  A brother and sister with a past incestuous re...  thriller   \n",
       "2  As the bus empties the students for their fiel...     adult   \n",
       "3  To help their unemployed father make ends meet...     drama   \n",
       "4  The film's title refers not only to the un-rec...     drama   \n",
       "\n",
       "                                           processed  \n",
       "0  listening conversation doctor parent 10yearold...  \n",
       "1  brother sister past incestuous relationship cu...  \n",
       "2  bus empty student field trip museum natural hi...  \n",
       "3  help unemployed father make end meet edith twi...  \n",
       "4  film title refers unrecovered body ground zero...  "
      ]
     },
     "execution_count": 10,
     "metadata": {},
     "output_type": "execute_result"
    }
   ],
   "source": [
    "df.head()"
   ]
  },
  {
   "cell_type": "code",
   "execution_count": 11,
   "metadata": {},
   "outputs": [],
   "source": [
    "from sklearn import model_selection\n",
    "\n",
    "# split dataset\n",
    "df_train, df_test = model_selection.train_test_split(df, test_size=0.3)\n",
    "# get target\n",
    "y_train = df_train[\"genre\"].values\n",
    "y_test = df_test[\"genre\"].values"
   ]
  },
  {
   "cell_type": "markdown",
   "metadata": {},
   "source": [
    "Cały zbiór dostaje nową kolumne preprocessed. Żeby ją otrzymać każdy opis dzielony jest na sentencje a każda sentencja tokenizowana na słowa. Z tych słów usuwane sa wszystkie niepotrzebne znaki aby poprawnie usunąć słowa bez znaczenia (stopwords) i aby poprawnie przeporowadzona została lematyzacja. Później sentencje zbite są ponownie w opisy. \n",
    "\n",
    "Teraz taki zbiór podzielony jest na test i train"
   ]
  },
  {
   "cell_type": "markdown",
   "metadata": {},
   "source": [
    "### Prepare corpus for word2vec training [training set]\n"
   ]
  },
  {
   "cell_type": "code",
   "execution_count": 12,
   "metadata": {},
   "outputs": [
    {
     "data": {
      "text/plain": [
       "['simpson',\n",
       " 'scribe',\n",
       " 'dana',\n",
       " 'gould',\n",
       " 'written',\n",
       " 'untitled',\n",
       " 'multicamera',\n",
       " 'comedy',\n",
       " 'star']"
      ]
     },
     "execution_count": 12,
     "metadata": {},
     "output_type": "execute_result"
    }
   ],
   "source": [
    "processed = df_train[\"processed\"]\n",
    "\n",
    "def tokenize_text(text_or_path, file_input=False): # find better solution for large scale texts (batch reading from os)\n",
    "   \n",
    "   text = ''\n",
    "   if file_input:\n",
    "      with open(text_or_path) as f:\n",
    "         text = f.read()\n",
    "         text = text.replace('\\n', '')\n",
    "   else:\n",
    "      text = text_or_path\n",
    "         \n",
    "   # tokenize text to sentences\n",
    "   sentences = text.split(sep='.')\n",
    "   sentences = [s.strip() for s in sentences]\n",
    "   \n",
    "   # tokenize sentences to words\n",
    "   sentences_tokenized = [s.split(sep=' ') for s in sentences]\n",
    "   \n",
    "   #for i, s in enumerate(sentences_tokenized):\n",
    "   #   sentences_tokenized[i] = [word.lower().strip('!\"#$%&()*+,-./:;<=>?@[\\\\]^_`{|}~\\t\\n') for word in s]\n",
    "      \n",
    "   return sentences_tokenized\n",
    "\n",
    "# tokenize all joined preprocessed descriptions\n",
    "corpus_tokenized = tokenize_text(''.join(processed))\n",
    "corpus_tokenized[0]"
   ]
  },
  {
   "cell_type": "code",
   "execution_count": 13,
   "metadata": {},
   "outputs": [
    {
     "data": {
      "text/plain": [
       "37949"
      ]
     },
     "execution_count": 13,
     "metadata": {},
     "output_type": "execute_result"
    }
   ],
   "source": [
    "len(processed)"
   ]
  },
  {
   "cell_type": "code",
   "execution_count": 14,
   "metadata": {},
   "outputs": [
    {
     "data": {
      "text/plain": [
       "196229"
      ]
     },
     "execution_count": 14,
     "metadata": {},
     "output_type": "execute_result"
    }
   ],
   "source": [
    "len(corpus_tokenized)"
   ]
  },
  {
   "cell_type": "markdown",
   "metadata": {},
   "source": [
    "## PREPARE NEW DESCRIPTION COLUMN FOR TRAINING."
   ]
  },
  {
   "cell_type": "code",
   "execution_count": 15,
   "metadata": {},
   "outputs": [
    {
     "data": {
      "text/plain": [
       "'one popular influential female rb group time pointer sister combined influence jazz soul gospel scat pop sometimes even country music winning amalgam  continue perform enduring new song maintain devoted following concert recorded april 2004 alberta bair theatre billing montana  feature recent lineup consisting ruth anita ruth daughter issa group play enduring hit  set list includes fairytale chain fool yes im excited among many others  '"
      ]
     },
     "execution_count": 15,
     "metadata": {},
     "output_type": "execute_result"
    }
   ],
   "source": [
    "processed = df_train[\"processed\"]\n",
    "\n",
    "def multi_sentence_to_one(multi_sen_arr, file_input=False): # find better solution for large scale texts (batch reading from os)\n",
    "\n",
    "    return [multi_sen.replace('.', ' ') for multi_sen in multi_sen_arr]\n",
    "\n",
    "# tokenize all joined preprocessed descriptions\n",
    "processed_as_sentences = multi_sentence_to_one(processed)\n",
    "len(processed_as_sentences)\n",
    "processed_as_sentences[1]"
   ]
  },
  {
   "cell_type": "code",
   "execution_count": 16,
   "metadata": {},
   "outputs": [],
   "source": [
    "df[\"desc_prepared\"] = df[\"processed\"].apply(lambda x: x.replace('.', ' '))"
   ]
  },
  {
   "cell_type": "code",
   "execution_count": 17,
   "metadata": {},
   "outputs": [],
   "source": [
    "descriptions_corpus = '.'.join(df[\"desc_prepared\"])"
   ]
  },
  {
   "cell_type": "markdown",
   "metadata": {},
   "source": [
    "fitting word2vec"
   ]
  },
  {
   "cell_type": "markdown",
   "metadata": {},
   "source": [
    "Następnie bierzemy treningową część zbioru i przeprocesowane wcześniej opisy łączymy w jeden długi tekst i dzielimy na same słowa. Te słowa następnie dodajemy do modelu Word2Vec, który nauczy się ich znaczeń w kontekście sentencji w jakich się znajdują. Dokonana zostanie też redukcja wymiarowości do 300 cech.\n",
    "\n",
    "Uczymy się na opisach przed zlączeniem powyżej aby słowa znajdowaly sie w swoich zdaniach - a nie w jednym dużym (caly opis)"
   ]
  },
  {
   "cell_type": "code",
   "execution_count": 18,
   "metadata": {},
   "outputs": [],
   "source": [
    "from gensim.models import Word2Vec\n",
    "nlp = None\n",
    "load = True\n",
    "\n",
    "#loading cell\n",
    "if load:\n",
    "    nlp = Word2Vec.load(\"word2vec.model\")\n",
    "else:\n",
    "    nlp = Word2Vec(sentences=corpus_tokenized, vector_size=300, window=8, workers=4, sg=1, epochs=30) # sg: 1-skip gram 0-cbow\n",
    "    nlp.save(\"word2vec.model\")\n"
   ]
  },
  {
   "cell_type": "code",
   "execution_count": 19,
   "metadata": {},
   "outputs": [
    {
     "data": {
      "text/plain": [
       "array([-0.20275694,  0.09380215, -0.13456184, -0.02818538, -0.0982755 ,\n",
       "       -0.13635966,  0.22474203,  0.28120387,  0.1179752 , -0.30947843],\n",
       "      dtype=float32)"
      ]
     },
     "execution_count": 19,
     "metadata": {},
     "output_type": "execute_result"
    }
   ],
   "source": [
    "nlp.wv['man'][:10]"
   ]
  },
  {
   "cell_type": "markdown",
   "metadata": {},
   "source": [
    "# visualisation"
   ]
  },
  {
   "cell_type": "code",
   "execution_count": 20,
   "metadata": {},
   "outputs": [],
   "source": [
    "from sklearn import manifold\n",
    "\n"
   ]
  },
  {
   "cell_type": "code",
   "execution_count": 21,
   "metadata": {},
   "outputs": [
    {
     "name": "stderr",
     "output_type": "stream",
     "text": [
      "c:\\source\\ai-nlp\\env\\lib\\site-packages\\sklearn\\manifold\\_t_sne.py:790: FutureWarning: The default learning rate in TSNE will change from 200.0 to 'auto' in 1.2.\n",
      "  warnings.warn(\n",
      "c:\\source\\ai-nlp\\env\\lib\\site-packages\\sklearn\\manifold\\_t_sne.py:982: FutureWarning: The PCA initialization in TSNE will change to have the standard deviation of PC1 equal to 1e-4 in 1.2. This will ensure better convergence.\n",
      "  warnings.warn(\n",
      "C:\\Users\\Kamil\\AppData\\Local\\Temp\\ipykernel_6900\\1038844405.py:13: SettingWithCopyWarning: \n",
      "A value is trying to be set on a copy of a slice from a DataFrame\n",
      "\n",
      "See the caveats in the documentation: https://pandas.pydata.org/pandas-docs/stable/user_guide/indexing.html#returning-a-view-versus-a-copy\n",
      "  dtf_[\"input\"].iloc[0:1] = 1\n"
     ]
    },
    {
     "data": {
      "image/png": "[encoded data removed]",
      "text/plain": [
       "<Figure size 432x288 with 1 Axes>"
      ]
     },
     "metadata": {
      "needs_background": "light"
     },
     "output_type": "display_data"
    }
   ],
   "source": [
    "word = \"money\"\n",
    "fig = plt.figure()\n",
    "## word embedding\n",
    "tot_words = [word] + [tupla[0] for tupla in nlp.wv.most_similar(word, topn=10)]\n",
    "X = nlp.wv[tot_words]\n",
    "\n",
    "## pca to reduce dimensionality from 300 to 3\n",
    "pca = manifold.TSNE(perplexity=40, n_components=3, init='pca')\n",
    "X = pca.fit_transform(X)\n",
    "## create dtf\n",
    "dtf_ = pd.DataFrame(X, index=tot_words, columns=[\"x\",\"y\",\"z\"])\n",
    "dtf_[\"input\"] = 0\n",
    "dtf_[\"input\"].iloc[0:1] = 1\n",
    "## plot 3d\n",
    "from mpl_toolkits.mplot3d import Axes3D\n",
    "ax = fig.add_subplot(111, projection='3d')\n",
    "ax.scatter(dtf_[dtf_[\"input\"]==0]['x'], \n",
    "           dtf_[dtf_[\"input\"]==0]['y'], \n",
    "           dtf_[dtf_[\"input\"]==0]['z'], c=\"black\")\n",
    "ax.scatter(dtf_[dtf_[\"input\"]==1]['x'], \n",
    "           dtf_[dtf_[\"input\"]==1]['y'], \n",
    "           dtf_[dtf_[\"input\"]==1]['z'], c=\"red\")\n",
    "ax.set(xlabel=None, ylabel=None, zlabel=None, xticklabels=[], \n",
    "       yticklabels=[], zticklabels=[])\n",
    "for label, row in dtf_[[\"x\",\"y\",\"z\"]].iterrows():\n",
    "    x, y, z = row\n",
    "    ax.text(x, y, z, s=label)"
   ]
  },
  {
   "cell_type": "markdown",
   "metadata": {},
   "source": [
    "### TRANSFORM PREPROCESSED CORPUS INTO LIST OF SEQUENCES"
   ]
  },
  {
   "cell_type": "markdown",
   "metadata": {},
   "source": [
    "Teraz stworzony zostanie słownik dla corpusu który powstał z opisów zbioru treningowego. W tym słowniku każde słowo z korpusu dostanie swój indeks. Następnie za pomocą tych indeksów przedstawione zostaną sentencje zawierające się w opisach."
   ]
  },
  {
   "cell_type": "code",
   "execution_count": 22,
   "metadata": {},
   "outputs": [
    {
     "data": {
      "text/plain": [
       "0        listening conversation doctor parent 10yearold...\n",
       "1        brother sister past incestuous relationship cu...\n",
       "2        bus empty student field trip museum natural hi...\n",
       "3        help unemployed father make end meet edith twi...\n",
       "4        film title refers unrecovered body ground zero...\n",
       "                               ...                        \n",
       "54209    shortlived nbc live sitcom centered bonino wor...\n",
       "54210    next generation exploitation. sister kapa bay ...\n",
       "54211    ze bestaan echt standup comedy growing facing ...\n",
       "54212    walter vivian live country difficult time keep...\n",
       "54213    labor day weekend 1935 intense hurricane ever ...\n",
       "Name: processed, Length: 54214, dtype: object"
      ]
     },
     "execution_count": 22,
     "metadata": {},
     "output_type": "execute_result"
    }
   ],
   "source": [
    "df.processed"
   ]
  },
  {
   "cell_type": "code",
   "execution_count": 23,
   "metadata": {},
   "outputs": [],
   "source": [
    "from tensorflow.keras import preprocessing as k_preprocessing\n",
    "\n",
    "# tokenize vocab\n",
    "tokenizer = k_preprocessing.text.Tokenizer(lower=True, split=' ', oov_token=\"NaN\", filters='!\"#$%&()*+,-./:;<=>?@[\\\\]^_`{|}~\\t\\n')\n",
    "tokenizer.fit_on_texts(df_train.processed) # corpus_tokenized can be tested as well\n",
    "dic_vocabulary = tokenizer.word_index"
   ]
  },
  {
   "cell_type": "code",
   "execution_count": 24,
   "metadata": {},
   "outputs": [
    {
     "name": "stdout",
     "output_type": "stream",
     "text": [
      "110957\n",
      "place 51\n",
      "house 52\n"
     ]
    }
   ],
   "source": [
    "print(len(dic_vocabulary.keys()))\n",
    "\n",
    "for key in list(dic_vocabulary.keys())[50:52]:\n",
    "    print(key, dic_vocabulary[key])\n"
   ]
  },
  {
   "cell_type": "code",
   "execution_count": 25,
   "metadata": {},
   "outputs": [
    {
     "data": {
      "text/plain": [
       "37949"
      ]
     },
     "execution_count": 25,
     "metadata": {},
     "output_type": "execute_result"
    }
   ],
   "source": [
    "# create sequence of dictionary ids in place of words\n",
    "lst_text2seq = tokenizer.texts_to_sequences(df_train.processed)\n",
    "lst_text2seq[4]\n",
    "len(lst_text2seq)"
   ]
  },
  {
   "cell_type": "markdown",
   "metadata": {},
   "source": [
    "Trzeba też dalej zobaczyć jak sieć NN ma się na tym uczyć -> czy będą to listy sentencji (zdań w opisie) zakodowanych, czy może można złączyć te listy w jedną całość (bo np. słownik już nauczył się znaczeń tych słów -> więc na podstawie znaczeń będzie po prostu budował wektor tematyczny dla danego filmu\n",
    ")"
   ]
  },
  {
   "cell_type": "markdown",
   "metadata": {},
   "source": [
    "Problem nr1 resolved -> Chodzi o to że wektor Word2Vec uczymy tylko z korpusu części treningowej, bo na jej podstawie będzie się przecież starał zaklasyfikować część testową, niemniej jednak część testową trzeba pociąć też osobno na słowa (czyli tak samo na unigramy i bigramy itd.)\n",
    "\n",
    "Więc trzeba będzie użyć tego tokenizera -> teraz należy sprawdzić, CO BĘDZIE WRZUCANE DO TOKENIZERA ZE ZBIORU TESTOWEGO"
   ]
  },
  {
   "cell_type": "code",
   "execution_count": 26,
   "metadata": {},
   "outputs": [
    {
     "data": {
      "text/plain": [
       "array([[ 6694, 14576,  6695, ...,     0,     0,     0],\n",
       "       [    3,   476,  2586, ..., 13310,  4341,   187],\n",
       "       [   34,    16,  1794, ...,   429,   440,   122],\n",
       "       ...,\n",
       "       [    8,   207,    14, ...,     0,     0,     0],\n",
       "       [23476,  7159,     4, ...,  1554,  5789,   174],\n",
       "       [16147,   856,  6209, ...,  1664,  2268,   174]])"
      ]
     },
     "execution_count": 26,
     "metadata": {},
     "output_type": "execute_result"
    }
   ],
   "source": [
    "# padding sequence      \n",
    "X_train = k_preprocessing.sequence.pad_sequences(lst_text2seq, \n",
    "                    maxlen=40, padding=\"post\", truncating=\"post\")\n",
    "X_train"
   ]
  },
  {
   "cell_type": "code",
   "execution_count": 27,
   "metadata": {},
   "outputs": [
    {
     "data": {
      "text/plain": [
       "(37949, 40)"
      ]
     },
     "execution_count": 27,
     "metadata": {},
     "output_type": "execute_result"
    }
   ],
   "source": [
    "X_train.shape"
   ]
  },
  {
   "cell_type": "markdown",
   "metadata": {},
   "source": [
    "### Feature matrix for each sentence (i.e. lengths of sentences)"
   ]
  },
  {
   "cell_type": "code",
   "execution_count": 28,
   "metadata": {},
   "outputs": [
    {
     "data": {
      "image/png": "[encoded data removed]",
      "text/plain": [
       "<Figure size 432x288 with 1 Axes>"
      ]
     },
     "metadata": {
      "needs_background": "light"
     },
     "output_type": "display_data"
    }
   ],
   "source": [
    "import seaborn as sns\n",
    "sns.heatmap(X_train==0, vmin=0, vmax=1, cbar=False)\n",
    "plt.show()"
   ]
  },
  {
   "cell_type": "markdown",
   "metadata": {},
   "source": [
    "### Prepare feature matrix for X_test"
   ]
  },
  {
   "cell_type": "code",
   "execution_count": 29,
   "metadata": {},
   "outputs": [
    {
     "data": {
      "text/plain": [
       "16265"
      ]
     },
     "execution_count": 29,
     "metadata": {},
     "output_type": "execute_result"
    }
   ],
   "source": [
    "# create sequence of dictionary ids in place of words\n",
    "lst_text2seq = tokenizer.texts_to_sequences(df_test.processed)\n",
    "len(lst_text2seq)"
   ]
  },
  {
   "cell_type": "code",
   "execution_count": 30,
   "metadata": {},
   "outputs": [
    {
     "data": {
      "text/plain": [
       "array([[  5246,    266,    234, ...,      0,      0,      0],\n",
       "       [  2822,   9673,    789, ...,    435,    379,   1314],\n",
       "       [  2331,   1102,  17367, ...,      0,      0,      0],\n",
       "       ...,\n",
       "       [  3282,   2711,    972, ...,      0,      0,      0],\n",
       "       [  5014,     11,    412, ...,      0,      0,      0],\n",
       "       [108487,      1,     95, ...,      0,      0,      0]])"
      ]
     },
     "execution_count": 30,
     "metadata": {},
     "output_type": "execute_result"
    }
   ],
   "source": [
    "# padding sequence      \n",
    "X_test = k_preprocessing.sequence.pad_sequences(lst_text2seq, \n",
    "                    maxlen=40, padding=\"post\", truncating=\"post\")\n",
    "X_test"
   ]
  },
  {
   "cell_type": "code",
   "execution_count": 31,
   "metadata": {},
   "outputs": [
    {
     "data": {
      "text/plain": [
       "(16265, 40)"
      ]
     },
     "execution_count": 31,
     "metadata": {},
     "output_type": "execute_result"
    }
   ],
   "source": [
    "X_test.shape"
   ]
  },
  {
   "cell_type": "markdown",
   "metadata": {},
   "source": [
    "### Feature matrix for each sentence (i.e. lengths of sentences)"
   ]
  },
  {
   "cell_type": "code",
   "execution_count": 32,
   "metadata": {},
   "outputs": [
    {
     "data": {
      "image/png": "[encoded data removed]",
      "text/plain": [
       "<Figure size 432x288 with 1 Axes>"
      ]
     },
     "metadata": {
      "needs_background": "light"
     },
     "output_type": "display_data"
    }
   ],
   "source": [
    "import seaborn as sns\n",
    "sns.heatmap(X_test==0, vmin=0, vmax=1, cbar=False)\n",
    "plt.show()"
   ]
  },
  {
   "cell_type": "markdown",
   "metadata": {},
   "source": [
    "### Create the matrix of embedding (weight matrix)"
   ]
  },
  {
   "cell_type": "code",
   "execution_count": 33,
   "metadata": {},
   "outputs": [],
   "source": [
    "import numpy as np\n",
    "\n",
    "## start the matrix (length of vocabulary x vector size) with all 0s\n",
    "embeddings = np.zeros((len(dic_vocabulary)+1, 300))\n",
    "for word,idx in dic_vocabulary.items():\n",
    "    ## update the row with vector\n",
    "    try:\n",
    "        embeddings[idx] =  nlp.wv[word]\n",
    "    ## if word not in model then skip and the row stays all 0s\n",
    "    except:\n",
    "        pass"
   ]
  },
  {
   "cell_type": "code",
   "execution_count": 34,
   "metadata": {},
   "outputs": [
    {
     "data": {
      "text/plain": [
       "(300,)"
      ]
     },
     "execution_count": 34,
     "metadata": {},
     "output_type": "execute_result"
    }
   ],
   "source": [
    "idx = dic_vocabulary['dog']\n",
    "embeddings[idx].shape"
   ]
  },
  {
   "cell_type": "markdown",
   "metadata": {},
   "source": [
    "## Prepare TF layers model"
   ]
  },
  {
   "cell_type": "code",
   "execution_count": 35,
   "metadata": {},
   "outputs": [
    {
     "data": {
      "text/plain": [
       "(110958, 300)"
      ]
     },
     "execution_count": 35,
     "metadata": {},
     "output_type": "execute_result"
    }
   ],
   "source": [
    "embeddings.shape"
   ]
  },
  {
   "cell_type": "code",
   "execution_count": 40,
   "metadata": {},
   "outputs": [],
   "source": [
    "from tensorflow.keras import models, layers\n",
    "\n",
    "\n",
    "def get_model(verbose = False):\n",
    "    x_input_layer = layers.Input(shape=(40,))\n",
    "\n",
    "    # embedding\n",
    "    x_layers = layers.Embedding(input_dim=embeddings.shape[0],\n",
    "                                output_dim=embeddings.shape[1],\n",
    "                                weights=[embeddings],\n",
    "                                input_length=40, trainable=False)(x_input_layer)\n",
    "\n",
    "    # calculations\n",
    "    x_layers = layers.Bidirectional(layers.LSTM(units=15, dropout=0.2, \n",
    "                            return_sequences=True))(x_layers)\n",
    "    x_layers = layers.Bidirectional(layers.LSTM(units=15, dropout=0.2))(x_layers)\n",
    "\n",
    "    # activation\n",
    "\n",
    "    x_layers = layers.Dense(64, activation='relu')(x_layers)\n",
    "    y_out = layers.Dense(27, activation='softmax')(x_layers)\n",
    "\n",
    "    # create model\n",
    "\n",
    "    model = models.Model(x_input_layer, y_out)\n",
    "    model.compile(loss='sparse_categorical_crossentropy',\n",
    "                optimizer='adam', metrics=['accuracy'])\n",
    "    \n",
    "    if verbose:\n",
    "        model.summary()\n",
    "    \n",
    "    return model\n"
   ]
  },
  {
   "cell_type": "markdown",
   "metadata": {},
   "source": [
    "## Encode categories"
   ]
  },
  {
   "cell_type": "code",
   "execution_count": 65,
   "metadata": {},
   "outputs": [
    {
     "data": {
      "text/plain": [
       "array([ 0,  1,  2,  3,  4,  5,  6,  7,  8,  9, 10, 11, 12, 13, 14, 15, 16,\n",
       "       17, 18, 19, 20, 21, 22, 23, 24, 25, 26])"
      ]
     },
     "execution_count": 65,
     "metadata": {},
     "output_type": "execute_result"
    }
   ],
   "source": [
    "np.unique(y_train)"
   ]
  },
  {
   "cell_type": "code",
   "execution_count": 38,
   "metadata": {},
   "outputs": [],
   "source": [
    "categories_dict = {label:n for n,label in \n",
    "                   enumerate(np.unique(df_train.genre))} # from training set\n",
    "\n",
    "# map categories to numbers\n",
    "y_train = np.array([categories_dict[y] for y in y_train])"
   ]
  },
  {
   "cell_type": "code",
   "execution_count": 39,
   "metadata": {},
   "outputs": [
    {
     "data": {
      "text/plain": [
       "array([5, 7, 7, ..., 7, 7, 8])"
      ]
     },
     "execution_count": 39,
     "metadata": {},
     "output_type": "execute_result"
    }
   ],
   "source": [
    "y_train"
   ]
  },
  {
   "cell_type": "markdown",
   "metadata": {},
   "source": [
    "## Train model"
   ]
  },
  {
   "cell_type": "code",
   "execution_count": 52,
   "metadata": {},
   "outputs": [
    {
     "name": "stderr",
     "output_type": "stream",
     "text": [
      "WARNING:absl:Found untraced functions such as lstm_cell_31_layer_call_fn, lstm_cell_31_layer_call_and_return_conditional_losses, lstm_cell_32_layer_call_fn, lstm_cell_32_layer_call_and_return_conditional_losses, lstm_cell_34_layer_call_fn while saving (showing 5 of 8). These functions will not be directly callable after loading.\n"
     ]
    },
    {
     "name": "stdout",
     "output_type": "stream",
     "text": [
      "INFO:tensorflow:Assets written to: keras_model\\assets\n"
     ]
    },
    {
     "name": "stderr",
     "output_type": "stream",
     "text": [
      "INFO:tensorflow:Assets written to: keras_model\\assets\n",
      "WARNING:absl:<keras.layers.recurrent.LSTMCell object at 0x000002414077C5E0> has the same name 'LSTMCell' as a built-in Keras object. Consider renaming <class 'keras.layers.recurrent.LSTMCell'> to avoid naming conflicts when loading with `tf.keras.models.load_model`. If renaming is not possible, pass the object in the `custom_objects` parameter of the load function.\n",
      "WARNING:absl:<keras.layers.recurrent.LSTMCell object at 0x000002414E687100> has the same name 'LSTMCell' as a built-in Keras object. Consider renaming <class 'keras.layers.recurrent.LSTMCell'> to avoid naming conflicts when loading with `tf.keras.models.load_model`. If renaming is not possible, pass the object in the `custom_objects` parameter of the load function.\n",
      "WARNING:absl:<keras.layers.recurrent.LSTMCell object at 0x000002413E22E190> has the same name 'LSTMCell' as a built-in Keras object. Consider renaming <class 'keras.layers.recurrent.LSTMCell'> to avoid naming conflicts when loading with `tf.keras.models.load_model`. If renaming is not possible, pass the object in the `custom_objects` parameter of the load function.\n",
      "WARNING:absl:<keras.layers.recurrent.LSTMCell object at 0x000002415B9AF700> has the same name 'LSTMCell' as a built-in Keras object. Consider renaming <class 'keras.layers.recurrent.LSTMCell'> to avoid naming conflicts when loading with `tf.keras.models.load_model`. If renaming is not possible, pass the object in the `custom_objects` parameter of the load function.\n"
     ]
    }
   ],
   "source": [
    "from tensorflow.keras.models import load_model\n",
    "\n",
    "training = None\n",
    "model = None\n",
    "load = False\n",
    "\n",
    "#loading cell\n",
    "if load:\n",
    "    # load here\n",
    "    model = load_model('keras_model')\n",
    "else:\n",
    "    model = get_model()\n",
    "    training = model.fit(x=X_train, y=y_train, batch_size=256, \n",
    "                        epochs=30, shuffle=True, verbose=0, \n",
    "                        validation_split=0.3)\n",
    "    model.save(\"keras_model\")"
   ]
  },
  {
   "cell_type": "code",
   "execution_count": 53,
   "metadata": {},
   "outputs": [
    {
     "data": {
      "image/png": "[encoded data removed]",
      "text/plain": [
       "<Figure size 432x288 with 4 Axes>"
      ]
     },
     "metadata": {
      "needs_background": "light"
     },
     "output_type": "display_data"
    }
   ],
   "source": [
    "metrics = [k for k in training.history.keys() if (\"loss\" not in k) and (\"val\" not in k)]\n",
    "\n",
    "fig, ax = plt.subplots(nrows=1, ncols=2, sharey=True)\n",
    "ax[0].set(title=\"Training\")\n",
    "ax11 = ax[0].twinx()\n",
    "ax[0].plot(training.history['loss'], color='black')\n",
    "ax[0].set_xlabel('Epochs')\n",
    "ax[0].set_ylabel('Loss', color='black')\n",
    "for metric in metrics:\n",
    "    ax11.plot(training.history[metric], label=metric)\n",
    "ax11.set_ylabel(\"Score\", color='steelblue')\n",
    "ax11.legend()\n",
    "ax[1].set(title=\"Validation\")\n",
    "ax22 = ax[1].twinx()\n",
    "ax[1].plot(training.history['val_loss'], color='black')\n",
    "ax[1].set_xlabel('Epochs')\n",
    "ax[1].set_ylabel('Loss', color='black')\n",
    "for metric in metrics:\n",
    "     ax22.plot(training.history['val_'+metric], label=metric)\n",
    "ax22.set_ylabel(\"Score\", color=\"steelblue\")\n",
    "plt.show()"
   ]
  },
  {
   "cell_type": "code",
   "execution_count": 70,
   "metadata": {},
   "outputs": [],
   "source": [
    "categories_dict_inversed = {v:k for k,v in categories_dict.items()}"
   ]
  },
  {
   "cell_type": "code",
   "execution_count": 73,
   "metadata": {},
   "outputs": [],
   "source": [
    "## test\n",
    "predicted_prob = model.predict(X_test)\n",
    "predicted = [categories_dict_inversed[np.argmax(pred)] for pred in predicted_prob]"
   ]
  },
  {
   "cell_type": "code",
   "execution_count": 79,
   "metadata": {},
   "outputs": [
    {
     "data": {
      "text/plain": [
       "16265"
      ]
     },
     "execution_count": 79,
     "metadata": {},
     "output_type": "execute_result"
    }
   ],
   "source": [
    "len(y_test)"
   ]
  },
  {
   "cell_type": "code",
   "execution_count": 76,
   "metadata": {},
   "outputs": [
    {
     "data": {
      "text/plain": [
       "16265"
      ]
     },
     "execution_count": 76,
     "metadata": {},
     "output_type": "execute_result"
    }
   ],
   "source": [
    "len(predicted)"
   ]
  },
  {
   "cell_type": "code",
   "execution_count": 81,
   "metadata": {},
   "outputs": [
    {
     "name": "stdout",
     "output_type": "stream",
     "text": [
      "[[ 168    1    6    0    0   44    1   28   66    0    0    1    0   11\n",
      "     0    0    0    0    2    0   29    3   11    0   24    0    4]\n",
      " [   3   62   21    2    0   39    0    6   18    3    0    0    0    8\n",
      "     1    0    0    0    1    0    0    4    0    0    4    0    0]\n",
      " [  16   19   39    3    0   24    0   28   36    3    0    0    0   18\n",
      "     0    0    0    0    6    0   12    6    1    1    0    0    6]\n",
      " [  12    0   10   19    0   20    0   14   17   23    0    1    0    8\n",
      "     0    0    0    0    3    1   11   15    0    0    1    0    1]\n",
      " [   1    0    0    0    0    1    0   47   25    1    0    0    0    1\n",
      "     0    0    0    0    0    0    0    5    0    1    1    0    0]\n",
      " [  43   16   19   10    0 1426    0   92  423   17    0    5    0   41\n",
      "     8    0    0    0   35    1    4   47    4    9   22    0    7]\n",
      " [  28    0    2    0    0   27    0   12   44    1    0    0    0    9\n",
      "     0    0    0    0    0    0    1    3    0    0   29    0    1]\n",
      " [  48    1   10    2    0  101    0 3184  281   13    0    6    0   26\n",
      "    26    0    0    0   48    0   25   89   21   19    7    1    2]\n",
      " [ 111   20   16    2    0  601    1  373 2588   18    0    1    0   73\n",
      "     3    0    0    0    5    4   13  163    1    3  116    0   27]\n",
      " [   4    2    8    8    0   45    0   35   59   27    0    1    0    5\n",
      "     3    0    0    0   18    0    9   11    2    3    0    0    0]\n",
      " [   7    0    6    2    0    7    0   10   19    7    0    0    0    8\n",
      "     0    0    0    0    0    0   11    6    0    0    2    0    3]\n",
      " [   2    0    0    0    0    7    0    2    1    1    0   32    0    0\n",
      "     1    0    0    0   10    0    0    0    2    1    0    0    0]\n",
      " [   3    0    0    0    0    1    0   39   23    0    1    0    0    1\n",
      "     0    0    0    0    0    0    1    2    0    0    1    0    0]\n",
      " [  15    3    5    0    0   48    0   23   47    1    0    0    0  427\n",
      "     3    0    0    0    2    0   15   16    0    0   56    0    2]\n",
      " [   0    2    0    0    0   15    0   80    8    2    0    1    0    0\n",
      "    80    0    0    0    3    0    2    2    8    7    0    0    0]\n",
      " [   2    0    0    1    0   31    0   15   23    1    0    0    0    2\n",
      "    14    0    0    0    0    0    0    4    0    0    0    0    1]\n",
      " [   1    1    1    0    0   12    0    7   20    0    0    0    0   10\n",
      "     0    0    0    0    0    0    3    6    0    0   22    0    2]\n",
      " [   0    0    0    0    0    6    0   32    0    0    0    0    0    0\n",
      "     1    0    0    0   10    0    0    2    1   12    0    0    0]\n",
      " [   2    3    3    3    0   64    0   85   11    6    0    5    0    5\n",
      "     0    0    0    0   72    0    1    4    5    6    1    0    0]\n",
      " [   3    6    0    0    0   67    0    6  112    3    0    0    0    0\n",
      "     0    0    0    0    0    2    1    7    0    0    3    0    0]\n",
      " [  34    0    3    0    0   11    0   26   14    1    0    0    0   25\n",
      "     0    0    0    0    3    0   63    8    0    0   11    0    0]\n",
      " [  21   13    6    8    0  216    0  411  331   14    0    0    0   32\n",
      "     8    0    0    0    7    1   18  380    4    0   29    0    1]\n",
      " [   5    0    1    0    0    7    0   38    2    1    0    2    0    0\n",
      "     0    0    0    0    6    0    2    1   54    1    1    0    1]\n",
      " [   2    1    0    0    0    8    0   43    4    5    0    1    0    0\n",
      "     4    0    0    0   19    0    0    0    7   27    0    0    0]\n",
      " [  41    3    6    1    0   49    1   11  136    1    0    1    0   72\n",
      "     0    0    0    0    1    0    9   13    0    0  119    0    2]\n",
      " [   8    0    0    0    0    0    0   11   10    0    0    0    0    0\n",
      "     0    0    0    0    0    0    0    0    1    0    0    0    0]\n",
      " [  22    0    8    1    0   11    0    1   15    1    0    0    0    1\n",
      "     0    0    0    0    0    0    0    0    0    0    2    0  241]]\n"
     ]
    }
   ],
   "source": [
    "from sklearn.metrics import confusion_matrix\n",
    "conf_matrix = confusion_matrix(y_test, predicted)\n",
    "print(conf_matrix)"
   ]
  },
  {
   "cell_type": "code",
   "execution_count": 83,
   "metadata": {},
   "outputs": [
    {
     "data": {
      "text/plain": [
       "<AxesSubplot:>"
      ]
     },
     "execution_count": 83,
     "metadata": {},
     "output_type": "execute_result"
    },
    {
     "data": {
      "image/png": "[encoded data removed]",
      "text/plain": [
       "<Figure size 432x288 with 2 Axes>"
      ]
     },
     "metadata": {
      "needs_background": "light"
     },
     "output_type": "display_data"
    }
   ],
   "source": [
    "import seaborn as sb\n",
    "sb.heatmap(conf_matrix)"
   ]
  },
  {
   "cell_type": "markdown",
   "metadata": {},
   "source": [
    "# TEREN TESTOWY"
   ]
  },
  {
   "cell_type": "code",
   "execution_count": 28,
   "metadata": {},
   "outputs": [],
   "source": [
    "from tensorflow.keras import preprocessing as k_preprocessing\n",
    "\n",
    "# tokenize vocab\n",
    "tokenizer = k_preprocessing.text.Tokenizer(lower=True, split=' ', oov_token=\"NaN\", filters='!\"#$%&()*+,-./:;<=>?@[\\\\]^_`{|}~\\t\\n')\n",
    "tokenizer.fit_on_texts(corpus_tokenized)\n",
    "dic_vocabulary = tokenizer.word_index"
   ]
  },
  {
   "cell_type": "code",
   "execution_count": 29,
   "metadata": {},
   "outputs": [
    {
     "name": "stdout",
     "output_type": "stream",
     "text": [
      "114428\n",
      "nuclear 1797\n"
     ]
    }
   ],
   "source": [
    "print(len(dic_vocabulary.keys()))\n",
    "\n",
    "for key in list(dic_vocabulary.keys())[1796:1797]:\n",
    "    print(key, dic_vocabulary[key])\n"
   ]
  },
  {
   "cell_type": "markdown",
   "metadata": {},
   "source": [
    "## to jest git"
   ]
  },
  {
   "cell_type": "code",
   "execution_count": 30,
   "metadata": {},
   "outputs": [
    {
     "data": {
      "text/plain": [
       "54214"
      ]
     },
     "execution_count": 30,
     "metadata": {},
     "output_type": "execute_result"
    }
   ],
   "source": [
    "# create sequence of dictionary ids in place of words\n",
    "lst_text2seq = tokenizer.texts_to_sequences(df.desc_prepared) # albo w ogole mozna to zrobic na preprocessed bo i tak usuwa kropki i znaki, wtedy nie trzeba tego przygotowywac\n",
    "len(lst_text2seq)"
   ]
  },
  {
   "cell_type": "code",
   "execution_count": 31,
   "metadata": {},
   "outputs": [
    {
     "data": {
      "text/plain": [
       "54214"
      ]
     },
     "execution_count": 31,
     "metadata": {},
     "output_type": "execute_result"
    }
   ],
   "source": [
    "lst_2 = tokenizer.texts_to_sequences(df.processed) # albo w ogole mozna to zrobic na preprocessed bo i tak usuwa kropki i znaki, wtedy nie trzeba tego przygotowywac\n",
    "len(lst_2)"
   ]
  },
  {
   "cell_type": "code",
   "execution_count": 32,
   "metadata": {},
   "outputs": [
    {
     "data": {
      "text/plain": [
       "[[20, 17, 1, 623, 1, 2233]]"
      ]
     },
     "execution_count": 32,
     "metadata": {},
     "output_type": "execute_result"
    }
   ],
   "source": [
    "test = tokenizer.texts_to_sequences(['man woman some#! kind   of  sentence'])\n",
    "test"
   ]
  },
  {
   "cell_type": "code",
   "execution_count": 33,
   "metadata": {},
   "outputs": [
    {
     "data": {
      "text/plain": [
       "array([[ 4999,  1054,   281, ...,   394,  2192,  6746],\n",
       "       [   69,   119,    92, ...,     0,     0,     0],\n",
       "       [ 1461,  1801,   114, ...,   785, 10758,   103],\n",
       "       ...,\n",
       "       [28895, 69716, 69717, ...,     0,     0,     0],\n",
       "       [ 2518, 14296,    63, ...,  1160,   269,   152],\n",
       "       [ 2407,    22,  1013, ...,     0,     0,     0]])"
      ]
     },
     "execution_count": 33,
     "metadata": {},
     "output_type": "execute_result"
    }
   ],
   "source": [
    "# padding sequence      \n",
    "X_train = k_preprocessing.sequence.pad_sequences(lst_text2seq, \n",
    "                    maxlen=50, padding=\"post\", truncating=\"post\")\n",
    "X_train"
   ]
  },
  {
   "cell_type": "code",
   "execution_count": 34,
   "metadata": {},
   "outputs": [
    {
     "data": {
      "text/plain": [
       "(54214, 50)"
      ]
     },
     "execution_count": 34,
     "metadata": {},
     "output_type": "execute_result"
    }
   ],
   "source": [
    "X_train.shape"
   ]
  },
  {
   "cell_type": "markdown",
   "metadata": {},
   "source": [
    "### Feature matrix for each sentence (i.e. lengths of sentences)"
   ]
  },
  {
   "cell_type": "code",
   "execution_count": 35,
   "metadata": {},
   "outputs": [
    {
     "data": {
      "image/png": "[encoded data removed]",
      "text/plain": [
       "<Figure size 432x288 with 1 Axes>"
      ]
     },
     "metadata": {
      "needs_background": "light"
     },
     "output_type": "display_data"
    }
   ],
   "source": [
    "import seaborn as sns\n",
    "sns.heatmap(X_train==0, vmin=0, vmax=1, cbar=False)\n",
    "plt.show()"
   ]
  }
 ],
 "metadata": {
  "interpreter": {
   "hash": "0540841127bd4f9f233a78eb4c6401d83ea8c2d59a35cc03537afaae612d5616"
  },
  "kernelspec": {
   "display_name": "Python 3.8.6 ('env': venv)",
   "language": "python",
   "name": "python3"
  },
  "language_info": {
   "codemirror_mode": {
    "name": "ipython",
    "version": 3
   },
   "file_extension": ".py",
   "mimetype": "text/x-python",
   "name": "python",
   "nbconvert_exporter": "python",
   "pygments_lexer": "ipython3",
   "version": "3.8.6"
  },
  "orig_nbformat": 4
 },
 "nbformat": 4,
 "nbformat_minor": 2
}
