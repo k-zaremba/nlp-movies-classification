{
 "cells": [
  {
   "cell_type": "code",
   "execution_count": 13,
   "metadata": {},
   "outputs": [],
   "source": [
    "from nltk import PorterStemmer\n",
    "stemmer = PorterStemmer()\n",
    "\n",
    "\n",
    "def removeStopWords(stopwords, list):\n",
    "    return([word for word in list if word not in stopwords])\n",
    "\n",
    "def tokenise(words, string):\n",
    "    string = clean(string)\n",
    "    words = string.split(\" \")\n",
    "    return ([stemmer.stem(word,0,len(word)-1) for word in words])"
   ]
  },
  {
   "cell_type": "code",
   "execution_count": 175,
   "metadata": {},
   "outputs": [
    {
     "name": "stdout",
     "output_type": "stream",
     "text": [
      "1036\n"
     ]
    }
   ],
   "source": [
    "\n",
    "def parse_raw(text_path): # find better solution for large scale texts (batch reading from os)\n",
    "    with open(text_path) as f:\n",
    "        contents = f.read()\n",
    "        contents = contents.replace('\\n', '')\n",
    "        \n",
    "        sentences = contents.split(sep='.')\n",
    "        sentences = [s.strip() for s in sentences]\n",
    "        \n",
    "        sentences_cut = [s.split(sep=' ') for s in sentences]\n",
    "        for i, s in enumerate(sentences_cut):\n",
    "            sentences_cut[i] = [word.strip(' ,.\\'') for word in s]\n",
    "            \n",
    "        # prepare accordingly\n",
    "        # https://www.quora.com/Why-should-punctuation-be-removed-in-Word2vec\n",
    "        \n",
    "        return sentences_cut\n",
    "    \n",
    "sentences = parse_raw('sample_text.txt')\n",
    "\n",
    "#print(sentences[:2])\n",
    "\n",
    "import functools\n",
    "\n",
    "print(functools.reduce(lambda a,b : a+b, [len(s) for s in sentences]))"
   ]
  },
  {
   "cell_type": "code",
   "execution_count": 27,
   "metadata": {},
   "outputs": [
    {
     "data": {
      "text/plain": [
       "(727, 1036)"
      ]
     },
     "execution_count": 27,
     "metadata": {},
     "output_type": "execute_result"
    }
   ],
   "source": [
    "import gensim\n",
    "model = gensim.models.Word2Vec(sentences, min_count=1, workers=4)\n",
    "model.train(sentences, total_examples=len(sentences), epochs=1)"
   ]
  },
  {
   "cell_type": "code",
   "execution_count": 32,
   "metadata": {},
   "outputs": [
    {
     "name": "stdout",
     "output_type": "stream",
     "text": [
      "[('period', 0.28260594606399536), ('month', 0.2653523087501526), ('she', 0.2639887034893036), ('A', 0.24994871020317078), ('I', 0.23322921991348267), ('need', 0.2283715009689331), ('shoes', 0.21890905499458313), ('now', 0.21590036153793335), ('saw', 0.21489177644252777), ('understand', 0.2122129201889038)]\n"
     ]
    }
   ],
   "source": [
    "sims = model.wv.most_similar('hover', topn=10) \n",
    "print(sims)"
   ]
  },
  {
   "cell_type": "code",
   "execution_count": 37,
   "metadata": {},
   "outputs": [
    {
     "data": {
      "text/plain": [
       "[('herself', 0.351097047328949)]"
      ]
     },
     "execution_count": 37,
     "metadata": {},
     "output_type": "execute_result"
    }
   ],
   "source": [
    "model.wv.most_similar(positive=['inch', 'she'], negative=['two'], topn=1)"
   ]
  },
  {
   "cell_type": "code",
   "execution_count": null,
   "metadata": {},
   "outputs": [],
   "source": [
    "#TODO -> input prep => check if word2vec has its parse methods\n",
    "#TODO -> download long text to study"
   ]
  },
  {
   "cell_type": "code",
   "execution_count": 2,
   "metadata": {},
   "outputs": [],
   "source": [
    "from gensim.models import Word2Vec\n",
    "from nltk.corpus import brown\n",
    "\n",
    "b = Word2Vec(brown.sents())"
   ]
  },
  {
   "cell_type": "markdown",
   "metadata": {},
   "source": [
    "-----------------------\n"
   ]
  },
  {
   "cell_type": "markdown",
   "metadata": {},
   "source": [
    "Tokenizing into sentences\n"
   ]
  },
  {
   "cell_type": "code",
   "execution_count": 68,
   "metadata": {},
   "outputs": [
    {
     "name": "stdout",
     "output_type": "stream",
     "text": [
      "To przykładowy tekst w języku polskim.\n",
      "Marek wyszedł po schodach i otworzył drzwi do swojego mieszkania.\n",
      "W tej chwili dotarło do niego, co tak naprawdę zrobił.\n"
     ]
    }
   ],
   "source": [
    "import nltk\n",
    "tokenizer_pl = nltk.data.load('tokenizers/punkt/polish.pickle')\n",
    "text = 'To przykładowy tekst w języku polskim. Marek wyszedł po schodach i otworzył drzwi do swojego mieszkania. W tej chwili dotarło do niego, co tak naprawdę zrobił.'\n",
    "res = tokenizer_pl.tokenize(text)\n",
    "for w in res:\n",
    "    print(w)"
   ]
  },
  {
   "cell_type": "markdown",
   "metadata": {},
   "source": [
    "Tokenizing into words"
   ]
  },
  {
   "cell_type": "code",
   "execution_count": 69,
   "metadata": {},
   "outputs": [
    {
     "name": "stdout",
     "output_type": "stream",
     "text": [
      "[['To', 'przykładowy', 'tekst', 'w', 'języku', 'polskim', '.'], ['Marek', 'wyszedł', 'po', 'schodach', 'i', 'otworzył', 'drzwi', 'do', 'swojego', 'mieszkania', '.'], ['W', 'tej', 'chwili', 'dotarło', 'do', 'niego', ',', 'co', 'tak', 'naprawdę', 'zrobił', '.']]\n"
     ]
    }
   ],
   "source": [
    "from nltk.tokenize import word_tokenize\n",
    "\n",
    "word_res = [word_tokenize(s) for s in res]\n",
    "print(word_res)"
   ]
  },
  {
   "cell_type": "markdown",
   "metadata": {},
   "source": [
    "POS tagging"
   ]
  },
  {
   "cell_type": "code",
   "execution_count": 70,
   "metadata": {},
   "outputs": [
    {
     "name": "stdout",
     "output_type": "stream",
     "text": [
      "C:\\Users\\Kamil\\AppData\\Roaming\\nltk_data\\corpora\\pl196x\n"
     ]
    }
   ],
   "source": [
    "import nltk \n",
    "pl196x_dir = nltk.data.find('corpora/pl196x')\n",
    "print(pl196x_dir)"
   ]
  },
  {
   "cell_type": "code",
   "execution_count": 71,
   "metadata": {},
   "outputs": [],
   "source": [
    "from nltk.corpus.reader import pl196x\n",
    "pl_reader = pl196x.Pl196xCorpusReader(pl196x_dir, r'.*\\.xml', textids='textids.txt', cat_file=\"cats.txt\")"
   ]
  },
  {
   "cell_type": "code",
   "execution_count": 31,
   "metadata": {},
   "outputs": [
    {
     "name": "stdout",
     "output_type": "stream",
     "text": [
      "('Sztuka', 'SSNF---------P')\n",
      "('utraciła', 'VS-F-3POD----P')\n"
     ]
    }
   ],
   "source": [
    "#Look at tagged words\n",
    "twords = pl_reader.tagged_words(fileids=pl_reader.fileids(),categories='cats.txt')\n",
    "for w in twords[:2]:\n",
    "    print(w)"
   ]
  },
  {
   "cell_type": "code",
   "execution_count": 72,
   "metadata": {},
   "outputs": [],
   "source": [
    "pl_sentences = pl_reader.tagged_sents(fileids=pl_reader.fileids(),categories='cats.txt')\n",
    "unigram__tagger = nltk.UnigramTagger(pl_sentences)"
   ]
  },
  {
   "cell_type": "code",
   "execution_count": 74,
   "metadata": {},
   "outputs": [
    {
     "data": {
      "text/plain": [
       "[('To', 'Z-N-------XX-P'),\n",
       " ('przykładowy', None),\n",
       " ('tekst', 'SSAI---------P'),\n",
       " ('w', 'P-L----------P'),\n",
       " ('języku', 'SSLI---------P')]"
      ]
     },
     "execution_count": 74,
     "metadata": {},
     "output_type": "execute_result"
    }
   ],
   "source": [
    "text = [j for sub in word_res for j in sub]\n",
    "unigram__tagger.tag(text)[:5]"
   ]
  },
  {
   "cell_type": "code",
   "execution_count": 78,
   "metadata": {},
   "outputs": [
    {
     "name": "stderr",
     "output_type": "stream",
     "text": [
      "Loading: 100%|██████████| 2225192/2225192 [00:01<00:00, 1223304.63bytes/s]\n"
     ]
    }
   ],
   "source": [
    "from stempel import StempelStemmer\n",
    "stemmer = StempelStemmer.default()\n",
    "# stemmer = StempelStemmer.polimorf()"
   ]
  },
  {
   "cell_type": "code",
   "execution_count": 82,
   "metadata": {},
   "outputs": [
    {
     "name": "stdout",
     "output_type": "stream",
     "text": [
      "To\n",
      "przykładowy\n",
      "tekst\n",
      "w\n",
      "język\n",
      "polski\n"
     ]
    }
   ],
   "source": [
    "for word in text[:6]:\n",
    "    print(stemmer.stem(word))\n"
   ]
  },
  {
   "cell_type": "code",
   "execution_count": 88,
   "metadata": {},
   "outputs": [
    {
     "name": "stdout",
     "output_type": "stream",
     "text": [
      "[(0, 1, ('To', 'to:T', 'part', [], [])), (0, 1, ('To', 'to:M', 'comp', [], [])), (0, 1, ('To', 'ten', 'adj:sg:acc:n:pos', [], [])), (0, 1, ('To', 'ten', 'adj:sg:nom.voc:n:pos', [], [])), (0, 1, ('To', 'to:V', 'pred', [], [])), (0, 1, ('To', 'to:S', 'subst:sg:nom:n:ncol', [], [])), (0, 1, ('To', 'to:S', 'subst:sg:acc:n:ncol', [], []))]\n",
      "\n",
      "[(0, 1, ('przykładowy', 'przykładowy', 'adj:sg:acc:m3:pos', [], [])), (0, 1, ('przykładowy', 'przykładowy', 'adj:sg:nom.voc:m1.m2.m3:pos', [], []))]\n",
      "\n",
      "[(0, 1, ('tekst', 'tekst', 'subst:sg:nom.acc:m3', ['nazwa_pospolita'], []))]\n",
      "\n",
      "[(0, 1, ('w', 'w', 'prep:acc:nwok', [], [])), (0, 1, ('w', 'w', 'prep:loc:nwok', [], []))]\n",
      "\n",
      "[(0, 1, ('języku', 'język', 'subst:sg:loc:m3', ['nazwa_pospolita'], [])), (0, 1, ('języku', 'język', 'subst:sg:voc:m3', ['nazwa_pospolita'], []))]\n",
      "\n",
      "[(0, 1, ('polskim', 'polski:S', 'subst:sg:inst:m3', ['nazwa_pospolita'], [])), (0, 1, ('polskim', 'polski:S', 'subst:sg:loc:m3', ['nazwa_pospolita'], [])), (0, 1, ('polskim', 'polski:S', 'subst:pl:dat:m3', ['nazwa_pospolita'], [])), (0, 1, ('polskim', 'polskie', 'subst:sg:inst:n:ncol', ['nazwa_pospolita'], ['przest.'])), (0, 1, ('polskim', 'polskie', 'subst:sg:loc:n:ncol', ['nazwa_pospolita'], ['przest.'])), (0, 1, ('polskim', 'polskie', 'subst:pl:dat:n:ncol', ['nazwa_pospolita'], ['przest.'])), (0, 1, ('polskim', 'polski:A', 'adj:pl:dat:m1.m2.m3.f.n:pos', [], [])), (0, 1, ('polskim', 'polski:A', 'adj:sg:inst:m1.m2.m3.n:pos', [], [])), (0, 1, ('polskim', 'polski:A', 'adj:sg:loc:m1.m2.m3.n:pos', [], []))]\n",
      "\n",
      "[(0, 1, ('.', '.', 'interp', [], []))]\n",
      "\n",
      "[(0, 1, ('Marek', 'Marek:Sf', 'subst:sg.pl:nom.gen.dat.acc.inst.loc.voc:f', ['nazwisko'], [])), (0, 1, ('Marek', 'marek:Sm1', 'subst:sg:nom:m1', ['nazwa_pospolita'], [])), (0, 1, ('Marek', 'Marek:Sm1', 'subst:sg:nom:m1', ['imię', 'nazwisko'], [])), (0, 1, ('Marek', 'marek:Sm2.m3', 'subst:sg:nom.acc:m3', ['nazwa_pospolita'], ['bot.'])), (0, 1, ('Marek', 'marek:Sm2.m3', 'subst:sg:nom:m2', ['nazwa_pospolita'], ['bot.'])), (0, 1, ('Marek', 'marka', 'subst:pl:gen:f', ['nazwa_pospolita'], [])), (0, 1, ('Marek', 'Marki', 'subst:pl:gen:n:pt', ['nazwa_geograficzna'], []))]\n",
      "\n",
      "[(0, 1, ('wyszedł', 'wyjść', 'praet:sg:m1.m2.m3:perf', [], [])), (0, 1, ('wyszedł', 'wynijść', 'praet:sg:m1.m2.m3:perf', [], ['daw.'])), (0, 1, ('wyszedł', 'wyniść', 'praet:sg:m1.m2.m3:perf', [], ['daw.']))]\n",
      "\n",
      "[(0, 1, ('po', 'po', 'prep:acc', [], [])), (0, 1, ('po', 'po', 'prep:dat', [], [])), (0, 1, ('po', 'po', 'prep:loc', [], []))]\n",
      "\n",
      "[(0, 1, ('schodach', 'schody', 'subst:pl:loc:n:pt', ['nazwa_pospolita'], [])), (0, 1, ('schodach', 'schód', 'subst:pl:loc:m3', ['nazwa_pospolita'], []))]\n",
      "\n",
      "[(0, 1, ('i', 'i:I', 'interj', [], [])), (0, 1, ('i', 'i:T', 'part', [], [])), (0, 1, ('i', 'i:C', 'conj', [], []))]\n",
      "\n",
      "[(0, 1, ('otworzył', 'otworzyć', 'praet:sg:m1.m2.m3:perf', [], []))]\n",
      "\n",
      "[(0, 1, ('drzwi', 'drzwi', 'subst:pl:nom.acc.voc:n:pt', ['nazwa_pospolita'], [])), (0, 1, ('drzwi', 'drzwi', 'subst:pl:gen:n:pt', ['nazwa_pospolita'], []))]\n",
      "\n",
      "[(0, 1, ('do', 'do:S', 'subst:sg.pl:nom.gen.dat.acc.inst.loc.voc:n:ncol', ['nazwa_pospolita'], ['muz.'])), (0, 1, ('do', 'do:P', 'prep:gen', [], []))]\n",
      "\n",
      "[(0, 1, ('swojego', 'swój', 'adj:sg:acc:m1.m2:pos', [], [])), (0, 1, ('swojego', 'swój', 'adj:sg:gen:m1.m2.m3.n:pos', [], [])), (0, 1, ('swojego', 'swoje', 'subst:sg:gen:n:ncol', ['nazwa_pospolita'], []))]\n",
      "\n",
      "[(0, 1, ('mieszkania', 'mieszkać', 'ger:pl:nom.acc:n:imperf:aff', [], [])), (0, 1, ('mieszkania', 'mieszkać', 'ger:sg:gen:n:imperf:aff', [], [])), (0, 1, ('mieszkania', 'mieszkanie', 'subst:sg:gen:n:ncol', ['nazwa_pospolita'], [])), (0, 1, ('mieszkania', 'mieszkanie', 'subst:pl:nom.acc.voc:n:ncol', ['nazwa_pospolita'], []))]\n",
      "\n",
      "[(0, 1, ('.', '.', 'interp', [], []))]\n",
      "\n",
      "[(0, 1, ('W', 'w', 'prep:acc:nwok', [], [])), (0, 1, ('W', 'w', 'prep:loc:nwok', [], []))]\n",
      "\n",
      "[(0, 1, ('tej', 'ten', 'adj:sg:dat:f:pos', [], [])), (0, 1, ('tej', 'ten', 'adj:sg:gen:f:pos', [], [])), (0, 1, ('tej', 'ten', 'adj:sg:loc:f:pos', [], []))]\n",
      "\n",
      "[(0, 1, ('chwili', 'chwila', 'subst:sg:gen:f', ['nazwa_pospolita'], [])), (0, 1, ('chwili', 'chwila', 'subst:sg:dat.loc:f', ['nazwa_pospolita'], [])), (0, 1, ('chwili', 'chwila', 'subst:pl:gen:f', ['nazwa_pospolita'], ['hom.']))]\n",
      "\n",
      "[(0, 1, ('dotarło', 'dotrzeć', 'praet:sg:n:perf', [], []))]\n",
      "\n",
      "[(0, 1, ('do', 'do:S', 'subst:sg.pl:nom.gen.dat.acc.inst.loc.voc:n:ncol', ['nazwa_pospolita'], ['muz.'])), (0, 1, ('do', 'do:P', 'prep:gen', [], []))]\n",
      "\n",
      "[(0, 1, ('niego', 'on:S', 'ppron3:sg:acc:m1.m2.m3:ter:akc:praep', [], [])), (0, 1, ('niego', 'on:S', 'ppron3:sg:gen:m1.m2.m3:ter:akc:praep', [], [])), (0, 1, ('niego', 'on:S', 'ppron3:sg:gen:n:ter:akc.nakc:praep', [], []))]\n",
      "\n",
      "[(0, 1, (',', ',', 'interp', [], []))]\n",
      "\n",
      "[(0, 1, ('co', 'co:Pacc.nom', 'prep:acc', [], [])), (0, 1, ('co', 'co:Pacc.nom', 'prep:nom', [], [])), (0, 1, ('co', 'co:Pgen', 'prep:gen', [], ['przest.'])), (0, 1, ('co', 'co:T', 'part', [], [])), (0, 1, ('co', 'co:M', 'comp', [], [])), (0, 1, ('co', 'co:S', 'subst:sg:nom:n:ncol', [], ['z_d.'])), (0, 1, ('co', 'co:S', 'subst:sg:gen:n:ncol', [], ['rzad.'])), (0, 1, ('co', 'co:S', 'subst:sg:acc:n:ncol', [], ['z_d.']))]\n",
      "\n",
      "[(0, 1, ('tak', 'tak:D', 'adv:pos', [], [])), (0, 1, ('tak', 'tak:I', 'interj', [], [])), (0, 1, ('tak', 'tak:T', 'part', [], [])), (0, 1, ('tak', 'taka', 'subst:pl:gen:f', ['nazwa_pospolita'], []))]\n",
      "\n",
      "[(0, 1, ('naprawdę', 'naprawdę:I', 'interj', [], [])), (0, 1, ('naprawdę', 'naprawdę:T', 'part', [], []))]\n",
      "\n",
      "[(0, 1, ('zrobił', 'zrobić', 'praet:sg:m1.m2.m3:perf', [], []))]\n",
      "\n",
      "[(0, 1, ('.', '.', 'interp', [], []))]\n",
      "\n"
     ]
    }
   ],
   "source": [
    "import morfeusz2\n",
    "lemmatizer = morfeusz2.Morfeusz()\n",
    "\n",
    "for word in text:\n",
    "    print(lemmatizer.analyse(word))\n",
    "    print()"
   ]
  },
  {
   "cell_type": "code",
   "execution_count": null,
   "metadata": {},
   "outputs": [],
   "source": []
  },
  {
   "cell_type": "code",
   "execution_count": null,
   "metadata": {},
   "outputs": [],
   "source": []
  },
  {
   "cell_type": "markdown",
   "metadata": {},
   "source": [
    "-------------------------------"
   ]
  },
  {
   "cell_type": "code",
   "execution_count": 65,
   "metadata": {},
   "outputs": [
    {
     "name": "stderr",
     "output_type": "stream",
     "text": [
      "C:\\Users\\Kamil\\AppData\\Local\\Temp\\ipykernel_2656\\2958472327.py:3: ParserWarning: Falling back to the 'python' engine because the 'c' engine does not support regex separators (separators > 1 char and different from '\\s+' are interpreted as regex); you can avoid this warning by specifying engine='python'.\n",
      "  df = pd.read_csv('dataset/train_data.txt', sep=\" ::: \", header=None)\n"
     ]
    }
   ],
   "source": [
    "import pandas as pd\n",
    "\n",
    "df = pd.read_csv('dataset/train_data.txt', sep=\" ::: \", header=None)\n",
    "\n",
    "df.drop([0], axis=1, inplace=True)\n",
    "df.rename(columns={1: 'title', 2: 'genre', 3: 'description'}, inplace=True)\n",
    "df = df[[\"title\", \"description\", \"genre\"]]"
   ]
  },
  {
   "cell_type": "code",
   "execution_count": 66,
   "metadata": {},
   "outputs": [
    {
     "data": {
      "text/html": [
       "<div>\n",
       "<style scoped>\n",
       "    .dataframe tbody tr th:only-of-type {\n",
       "        vertical-align: middle;\n",
       "    }\n",
       "\n",
       "    .dataframe tbody tr th {\n",
       "        vertical-align: top;\n",
       "    }\n",
       "\n",
       "    .dataframe thead th {\n",
       "        text-align: right;\n",
       "    }\n",
       "</style>\n",
       "<table border=\"1\" class=\"dataframe\">\n",
       "  <thead>\n",
       "    <tr style=\"text-align: right;\">\n",
       "      <th></th>\n",
       "      <th>title</th>\n",
       "      <th>description</th>\n",
       "      <th>genre</th>\n",
       "    </tr>\n",
       "  </thead>\n",
       "  <tbody>\n",
       "    <tr>\n",
       "      <th>43772</th>\n",
       "      <td>The Creator's Game (2015/II)</td>\n",
       "      <td>The game of lacrosse was invented in America l...</td>\n",
       "      <td>documentary</td>\n",
       "    </tr>\n",
       "    <tr>\n",
       "      <th>11861</th>\n",
       "      <td>Stan the Man (2018)</td>\n",
       "      <td>\"STAN MANN\" (STEVEN CHASE), a new money, multi...</td>\n",
       "      <td>romance</td>\n",
       "    </tr>\n",
       "    <tr>\n",
       "      <th>46463</th>\n",
       "      <td>The Prince Who Was a Thief (1951)</td>\n",
       "      <td>In 13th-century Tangiers, regent Mustapha cove...</td>\n",
       "      <td>adventure</td>\n",
       "    </tr>\n",
       "    <tr>\n",
       "      <th>18920</th>\n",
       "      <td>Kaal Ratri (1997)</td>\n",
       "      <td>'Kaal Ratri' is the story of a cursed night on...</td>\n",
       "      <td>drama</td>\n",
       "    </tr>\n",
       "    <tr>\n",
       "      <th>13946</th>\n",
       "      <td>Nuclear Family (2012)</td>\n",
       "      <td>Nuclear Family begins the story of a young cou...</td>\n",
       "      <td>sci-fi</td>\n",
       "    </tr>\n",
       "  </tbody>\n",
       "</table>\n",
       "</div>"
      ],
      "text/plain": [
       "                                   title  \\\n",
       "43772       The Creator's Game (2015/II)   \n",
       "11861                Stan the Man (2018)   \n",
       "46463  The Prince Who Was a Thief (1951)   \n",
       "18920                  Kaal Ratri (1997)   \n",
       "13946              Nuclear Family (2012)   \n",
       "\n",
       "                                             description        genre  \n",
       "43772  The game of lacrosse was invented in America l...  documentary  \n",
       "11861  \"STAN MANN\" (STEVEN CHASE), a new money, multi...      romance  \n",
       "46463  In 13th-century Tangiers, regent Mustapha cove...    adventure  \n",
       "18920  'Kaal Ratri' is the story of a cursed night on...        drama  \n",
       "13946  Nuclear Family begins the story of a young cou...       sci-fi  "
      ]
     },
     "execution_count": 66,
     "metadata": {},
     "output_type": "execute_result"
    }
   ],
   "source": [
    "df.sample(5)"
   ]
  },
  {
   "cell_type": "code",
   "execution_count": 67,
   "metadata": {},
   "outputs": [
    {
     "data": {
      "text/plain": [
       "array(['drama', 'thriller', 'adult', 'documentary', 'comedy', 'crime',\n",
       "       'reality-tv', 'horror', 'sport', 'animation', 'action', 'fantasy',\n",
       "       'short', 'sci-fi', 'music', 'adventure', 'talk-show', 'western',\n",
       "       'family', 'mystery', 'history', 'news', 'biography', 'romance',\n",
       "       'game-show', 'musical', 'war'], dtype=object)"
      ]
     },
     "execution_count": 67,
     "metadata": {},
     "output_type": "execute_result"
    }
   ],
   "source": [
    "df['genre'].unique()"
   ]
  },
  {
   "cell_type": "code",
   "execution_count": 68,
   "metadata": {},
   "outputs": [
    {
     "data": {
      "image/png": "[encoded data removed]",
      "text/plain": [
       "<Figure size 432x288 with 1 Axes>"
      ]
     },
     "metadata": {
      "needs_background": "light"
     },
     "output_type": "display_data"
    }
   ],
   "source": [
    "import matplotlib.pyplot as plt\n",
    "\n",
    "fig, ax = plt.subplots()\n",
    "fig.suptitle(\"genre\", fontsize=12)\n",
    "df[\"genre\"].reset_index().groupby(\"genre\").count().sort_values(by=\"index\").plot(kind=\"barh\", legend=False, ax=ax).grid(axis='x')\n",
    "plt.show()"
   ]
  },
  {
   "cell_type": "code",
   "execution_count": 69,
   "metadata": {},
   "outputs": [],
   "source": [
    "import nltk\n",
    "\n",
    "def preprocess_text(text, stemm=False, lemm=True, stopwords=None): # process one sentence\n",
    "    # lowercase -> strip -> tokenize -> remove stopwords -> stemm / lemm -> untokenize \n",
    "\n",
    "    # lower & strip\n",
    "    text = text.lower().strip()\n",
    "            \n",
    "    # tokenize (convert from string to list)\n",
    "    text_tokens = text.split()\n",
    "    \n",
    "    # remove stopwords\n",
    "    if stopwords is not None:\n",
    "        text_tokens = [word for word in text_tokens if word not in stopwords]\n",
    "                \n",
    "    ## stemming\n",
    "    if stemm:\n",
    "        ps = nltk.stem.porter.PorterStemmer()\n",
    "        text_tokens = [ps.stem(word) for word in text_tokens]\n",
    "                \n",
    "    # lemmatisation \n",
    "    if lemm:\n",
    "        lem = nltk.stem.wordnet.WordNetLemmatizer()\n",
    "        text_tokens = [lem.lemmatize(word) for word in text_tokens]\n",
    "            \n",
    "    # back to string from list\n",
    "    text = \" \".join(text_tokens)\n",
    "    return text"
   ]
  },
  {
   "cell_type": "code",
   "execution_count": 70,
   "metadata": {},
   "outputs": [
    {
     "data": {
      "text/plain": [
       "['i', 'me', 'my', 'myself', 'we', 'our', 'ours', 'ourselves', 'you', \"you're\"]"
      ]
     },
     "execution_count": 70,
     "metadata": {},
     "output_type": "execute_result"
    }
   ],
   "source": [
    "nltk_stopwords = nltk.corpus.stopwords.words(\"english\")\n",
    "nltk_stopwords[:10]"
   ]
  },
  {
   "cell_type": "code",
   "execution_count": 71,
   "metadata": {},
   "outputs": [
    {
     "data": {
      "text/plain": [
       "'A brother and sister with a past incestuous relationship have a current murderous relationship. He murders the women who reject him and she murders the women who get too close to him.'"
      ]
     },
     "execution_count": 71,
     "metadata": {},
     "output_type": "execute_result"
    }
   ],
   "source": [
    "df['description'][1]"
   ]
  },
  {
   "cell_type": "code",
   "execution_count": 72,
   "metadata": {},
   "outputs": [
    {
     "data": {
      "text/plain": [
       "'brother sister past incestuous relationship current murderous relationship. murder woman reject murder woman get close him.'"
      ]
     },
     "execution_count": 72,
     "metadata": {},
     "output_type": "execute_result"
    }
   ],
   "source": [
    "preprocess_text(df['description'][1], stopwords=nltk_stopwords)"
   ]
  },
  {
   "cell_type": "code",
   "execution_count": 73,
   "metadata": {},
   "outputs": [],
   "source": [
    "df[\"processed\"] = df[\"description\"].apply(lambda x: preprocess_text(x, stopwords=nltk_stopwords))"
   ]
  },
  {
   "cell_type": "code",
   "execution_count": 74,
   "metadata": {},
   "outputs": [
    {
     "data": {
      "text/html": [
       "<div>\n",
       "<style scoped>\n",
       "    .dataframe tbody tr th:only-of-type {\n",
       "        vertical-align: middle;\n",
       "    }\n",
       "\n",
       "    .dataframe tbody tr th {\n",
       "        vertical-align: top;\n",
       "    }\n",
       "\n",
       "    .dataframe thead th {\n",
       "        text-align: right;\n",
       "    }\n",
       "</style>\n",
       "<table border=\"1\" class=\"dataframe\">\n",
       "  <thead>\n",
       "    <tr style=\"text-align: right;\">\n",
       "      <th></th>\n",
       "      <th>title</th>\n",
       "      <th>description</th>\n",
       "      <th>genre</th>\n",
       "      <th>processed</th>\n",
       "    </tr>\n",
       "  </thead>\n",
       "  <tbody>\n",
       "    <tr>\n",
       "      <th>0</th>\n",
       "      <td>Oscar et la dame rose (2009)</td>\n",
       "      <td>Listening in to a conversation between his doc...</td>\n",
       "      <td>drama</td>\n",
       "      <td>listening conversation doctor parents, 10-year...</td>\n",
       "    </tr>\n",
       "    <tr>\n",
       "      <th>1</th>\n",
       "      <td>Cupid (1997)</td>\n",
       "      <td>A brother and sister with a past incestuous re...</td>\n",
       "      <td>thriller</td>\n",
       "      <td>brother sister past incestuous relationship cu...</td>\n",
       "    </tr>\n",
       "    <tr>\n",
       "      <th>2</th>\n",
       "      <td>Young, Wild and Wonderful (1980)</td>\n",
       "      <td>As the bus empties the students for their fiel...</td>\n",
       "      <td>adult</td>\n",
       "      <td>bus empty student field trip museum natural hi...</td>\n",
       "    </tr>\n",
       "    <tr>\n",
       "      <th>3</th>\n",
       "      <td>The Secret Sin (1915)</td>\n",
       "      <td>To help their unemployed father make ends meet...</td>\n",
       "      <td>drama</td>\n",
       "      <td>help unemployed father make end meet, edith tw...</td>\n",
       "    </tr>\n",
       "    <tr>\n",
       "      <th>4</th>\n",
       "      <td>The Unrecovered (2007)</td>\n",
       "      <td>The film's title refers not only to the un-rec...</td>\n",
       "      <td>drama</td>\n",
       "      <td>film's title refers un-recovered body ground z...</td>\n",
       "    </tr>\n",
       "  </tbody>\n",
       "</table>\n",
       "</div>"
      ],
      "text/plain": [
       "                              title  \\\n",
       "0      Oscar et la dame rose (2009)   \n",
       "1                      Cupid (1997)   \n",
       "2  Young, Wild and Wonderful (1980)   \n",
       "3             The Secret Sin (1915)   \n",
       "4            The Unrecovered (2007)   \n",
       "\n",
       "                                         description     genre  \\\n",
       "0  Listening in to a conversation between his doc...     drama   \n",
       "1  A brother and sister with a past incestuous re...  thriller   \n",
       "2  As the bus empties the students for their fiel...     adult   \n",
       "3  To help their unemployed father make ends meet...     drama   \n",
       "4  The film's title refers not only to the un-rec...     drama   \n",
       "\n",
       "                                           processed  \n",
       "0  listening conversation doctor parents, 10-year...  \n",
       "1  brother sister past incestuous relationship cu...  \n",
       "2  bus empty student field trip museum natural hi...  \n",
       "3  help unemployed father make end meet, edith tw...  \n",
       "4  film's title refers un-recovered body ground z...  "
      ]
     },
     "execution_count": 74,
     "metadata": {},
     "output_type": "execute_result"
    }
   ],
   "source": [
    "df.head()"
   ]
  },
  {
   "cell_type": "code",
   "execution_count": 75,
   "metadata": {},
   "outputs": [],
   "source": [
    "from sklearn import model_selection\n",
    "\n",
    "# split dataset\n",
    "df_train, df_test = model_selection.train_test_split(df, test_size=0.3)\n",
    "# get target\n",
    "y_train = df_train[\"genre\"].values\n",
    "y_test = df_test[\"genre\"].values"
   ]
  },
  {
   "cell_type": "markdown",
   "metadata": {},
   "source": [
    "### Prepare corpus for word2vec training\n"
   ]
  },
  {
   "cell_type": "code",
   "execution_count": 76,
   "metadata": {},
   "outputs": [
    {
     "data": {
      "text/plain": [
       "['conclusion', 'based', 'morality', 'decency', 'normal', 'human', 'behavior']"
      ]
     },
     "execution_count": 76,
     "metadata": {},
     "output_type": "execute_result"
    }
   ],
   "source": [
    "processed = df_train[\"processed\"]\n",
    "\n",
    "def tokenize_text(text_or_path, file_input=False): # find better solution for large scale texts (batch reading from os)\n",
    "   \n",
    "   text = ''\n",
    "   if file_input:\n",
    "      with open(text_or_path) as f:\n",
    "         text = f.read()\n",
    "         text = text.replace('\\n', '')\n",
    "   else:\n",
    "      text = text_or_path\n",
    "         \n",
    "   # tokenize text to sentences\n",
    "   sentences = text.split(sep='.')\n",
    "   sentences = [s.strip() for s in sentences]\n",
    "   \n",
    "   # tokenize sentences to words\n",
    "   sentences_tokenized = [s.split(sep=' ') for s in sentences]\n",
    "   \n",
    "   for i, s in enumerate(sentences_tokenized):\n",
    "      sentences_tokenized[i] = [word.strip('!\"#$%&()*+,-./:;<=>?@[\\\\]^_`{|}~\\t\\n') for word in s]\n",
    "      \n",
    "   return sentences_tokenized\n",
    "\n",
    "corpus_tokenized = tokenize_text(' '.join(processed))\n",
    "corpus_tokenized[1]"
   ]
  },
  {
   "cell_type": "markdown",
   "metadata": {},
   "source": [
    "fitting word2vec"
   ]
  },
  {
   "cell_type": "code",
   "execution_count": 77,
   "metadata": {},
   "outputs": [],
   "source": [
    "import gensim\n",
    "nlp = gensim.models.word2vec.Word2Vec(sentences=corpus_tokenized, vector_size=300, window=8, workers=4, sg=1, epochs=30) # sg: 1-skip gram 0-cbow"
   ]
  },
  {
   "cell_type": "code",
   "execution_count": 78,
   "metadata": {},
   "outputs": [],
   "source": [
    "nlp.save(\"word2vec.model\")"
   ]
  },
  {
   "cell_type": "code",
   "execution_count": 79,
   "metadata": {},
   "outputs": [],
   "source": [
    "#loading cell\n",
    "load = False\n",
    "if load:\n",
    "    nlp = Word2Vec.load(\"word2vec.model\")"
   ]
  },
  {
   "cell_type": "code",
   "execution_count": 103,
   "metadata": {},
   "outputs": [
    {
     "data": {
      "text/plain": [
       "array([ 0.01244565,  0.3538508 , -0.04299857,  0.26128197,  0.02909735,\n",
       "       -0.23122276,  0.13456626, -0.13313282,  0.0038695 , -0.11289892],\n",
       "      dtype=float32)"
      ]
     },
     "execution_count": 103,
     "metadata": {},
     "output_type": "execute_result"
    }
   ],
   "source": [
    "nlp.wv['man'][:10]"
   ]
  },
  {
   "cell_type": "markdown",
   "metadata": {},
   "source": [
    "# visualisation"
   ]
  },
  {
   "cell_type": "code",
   "execution_count": 81,
   "metadata": {},
   "outputs": [],
   "source": [
    "from sklearn import manifold\n",
    "\n"
   ]
  },
  {
   "cell_type": "code",
   "execution_count": 94,
   "metadata": {},
   "outputs": [
    {
     "name": "stderr",
     "output_type": "stream",
     "text": [
      "c:\\source\\ai-nlp\\env\\lib\\site-packages\\sklearn\\manifold\\_t_sne.py:790: FutureWarning: The default learning rate in TSNE will change from 200.0 to 'auto' in 1.2.\n",
      "  warnings.warn(\n",
      "c:\\source\\ai-nlp\\env\\lib\\site-packages\\sklearn\\manifold\\_t_sne.py:982: FutureWarning: The PCA initialization in TSNE will change to have the standard deviation of PC1 equal to 1e-4 in 1.2. This will ensure better convergence.\n",
      "  warnings.warn(\n",
      "C:\\Users\\Kamil\\AppData\\Local\\Temp\\ipykernel_2656\\1038844405.py:13: SettingWithCopyWarning: \n",
      "A value is trying to be set on a copy of a slice from a DataFrame\n",
      "\n",
      "See the caveats in the documentation: https://pandas.pydata.org/pandas-docs/stable/user_guide/indexing.html#returning-a-view-versus-a-copy\n",
      "  dtf_[\"input\"].iloc[0:1] = 1\n"
     ]
    },
    {
     "data": {
      "image/png": "[encoded data removed]",
      "text/plain": [
       "<Figure size 432x288 with 1 Axes>"
      ]
     },
     "metadata": {
      "needs_background": "light"
     },
     "output_type": "display_data"
    }
   ],
   "source": [
    "word = \"money\"\n",
    "fig = plt.figure()\n",
    "## word embedding\n",
    "tot_words = [word] + [tupla[0] for tupla in nlp.wv.most_similar(word, topn=10)]\n",
    "X = nlp.wv[tot_words]\n",
    "\n",
    "## pca to reduce dimensionality from 300 to 3\n",
    "pca = manifold.TSNE(perplexity=40, n_components=3, init='pca')\n",
    "X = pca.fit_transform(X)\n",
    "## create dtf\n",
    "dtf_ = pd.DataFrame(X, index=tot_words, columns=[\"x\",\"y\",\"z\"])\n",
    "dtf_[\"input\"] = 0\n",
    "dtf_[\"input\"].iloc[0:1] = 1\n",
    "## plot 3d\n",
    "from mpl_toolkits.mplot3d import Axes3D\n",
    "ax = fig.add_subplot(111, projection='3d')\n",
    "ax.scatter(dtf_[dtf_[\"input\"]==0]['x'], \n",
    "           dtf_[dtf_[\"input\"]==0]['y'], \n",
    "           dtf_[dtf_[\"input\"]==0]['z'], c=\"black\")\n",
    "ax.scatter(dtf_[dtf_[\"input\"]==1]['x'], \n",
    "           dtf_[dtf_[\"input\"]==1]['y'], \n",
    "           dtf_[dtf_[\"input\"]==1]['z'], c=\"red\")\n",
    "ax.set(xlabel=None, ylabel=None, zlabel=None, xticklabels=[], \n",
    "       yticklabels=[], zticklabels=[])\n",
    "for label, row in dtf_[[\"x\",\"y\",\"z\"]].iterrows():\n",
    "    x, y, z = row\n",
    "    ax.text(x, y, z, s=label)"
   ]
  },
  {
   "cell_type": "markdown",
   "metadata": {},
   "source": [
    "### TRANSFORM PREPROCESSED CORPUS INTO LIST OF SEQUENCES"
   ]
  },
  {
   "cell_type": "code",
   "execution_count": 83,
   "metadata": {},
   "outputs": [],
   "source": [
    "from tensorflow.keras import preprocessing as k_preprocessing\n",
    "\n",
    "# tokenize vocab\n",
    "tokenizer = k_preprocessing.text.Tokenizer(lower=True, split=' ', oov_token=\"NaN\", \n",
    "                                       filters='!\"#$%&()*+,-./:;<=>?@[\\\\]^_`{|}~\\t\\n')\n",
    "tokenizer.fit_on_texts(corpus_tokenized)\n",
    "dic_vocabulary = tokenizer.word_index"
   ]
  },
  {
   "cell_type": "code",
   "execution_count": 84,
   "metadata": {},
   "outputs": [
    {
     "name": "stdout",
     "output_type": "stream",
     "text": [
      "127511\n",
      "town 51\n",
      "see 52\n",
      "house 53\n",
      "series 54\n",
      "end 55\n",
      "daughter 56\n",
      "tell 57\n",
      "place 58\n",
      "together 59\n",
      "death 60\n"
     ]
    }
   ],
   "source": [
    "print(len(dic_vocabulary.keys()))\n",
    "\n",
    "for key in list(dic_vocabulary.keys())[50:60]:\n",
    "    print(key, dic_vocabulary[key])\n"
   ]
  },
  {
   "cell_type": "code",
   "execution_count": 97,
   "metadata": {},
   "outputs": [
    {
     "data": {
      "text/plain": [
       "[[1535, 770, 1746, 130, 2007, 14804, 2886],\n",
       " [2886, 191, 5074, 12990, 1084, 137, 1357]]"
      ]
     },
     "execution_count": 97,
     "metadata": {},
     "output_type": "execute_result"
    }
   ],
   "source": [
    "# create sequence\n",
    "lst_text2seq = tokenizer.texts_to_sequences(corpus_tokenized)\n",
    "lst_text2seq[:2]"
   ]
  },
  {
   "cell_type": "code",
   "execution_count": 100,
   "metadata": {},
   "outputs": [
    {
     "data": {
      "text/plain": [
       "array([[  1535,    770,   1746, ...,      0,      0,      0],\n",
       "       [  2886,    191,   5074, ...,      0,      0,      0],\n",
       "       [   137,   1357,     28, ...,  10246,    238,      0],\n",
       "       ...,\n",
       "       [  6288,   3936,   2179, ...,      0,      0,      0],\n",
       "       [ 34255,      6,  10692, ...,     13,   2977, 127511],\n",
       "       [     2,      0,      0, ...,      0,      0,      0]])"
      ]
     },
     "execution_count": 100,
     "metadata": {},
     "output_type": "execute_result"
    }
   ],
   "source": [
    "# padding sequence\n",
    "X_train = k_preprocessing.sequence.pad_sequences(lst_text2seq, \n",
    "                    maxlen=15, padding=\"post\", truncating=\"post\")\n",
    "X_train"
   ]
  },
  {
   "cell_type": "code",
   "execution_count": null,
   "metadata": {},
   "outputs": [],
   "source": []
  }
 ],
 "metadata": {
  "interpreter": {
   "hash": "0540841127bd4f9f233a78eb4c6401d83ea8c2d59a35cc03537afaae612d5616"
  },
  "kernelspec": {
   "display_name": "Python 3.8.6 ('env': venv)",
   "language": "python",
   "name": "python3"
  },
  "language_info": {
   "codemirror_mode": {
    "name": "ipython",
    "version": 3
   },
   "file_extension": ".py",
   "mimetype": "text/x-python",
   "name": "python",
   "nbconvert_exporter": "python",
   "pygments_lexer": "ipython3",
   "version": "3.8.6"
  },
  "orig_nbformat": 4
 },
 "nbformat": 4,
 "nbformat_minor": 2
}
