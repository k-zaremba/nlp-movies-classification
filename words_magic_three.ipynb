{
 "cells": [
  {
   "cell_type": "markdown",
   "metadata": {},
   "source": [
    "-------------------------------"
   ]
  },
  {
   "cell_type": "code",
   "execution_count": 197,
   "metadata": {},
   "outputs": [
    {
     "name": "stderr",
     "output_type": "stream",
     "text": [
      "C:\\Users\\Kamil\\AppData\\Local\\Temp\\ipykernel_19276\\2958472327.py:3: ParserWarning: Falling back to the 'python' engine because the 'c' engine does not support regex separators (separators > 1 char and different from '\\s+' are interpreted as regex); you can avoid this warning by specifying engine='python'.\n",
      "  df = pd.read_csv('dataset/train_data.txt', sep=\" ::: \", header=None)\n"
     ]
    }
   ],
   "source": [
    "import pandas as pd\n",
    "\n",
    "df = pd.read_csv('dataset/train_data.txt', sep=\" ::: \", header=None)\n",
    "\n",
    "df.drop([0], axis=1, inplace=True)\n",
    "df.rename(columns={1: 'title', 2: 'genre', 3: 'description'}, inplace=True)\n",
    "df = df[[\"title\", \"description\", \"genre\"]]"
   ]
  },
  {
   "cell_type": "code",
   "execution_count": 198,
   "metadata": {},
   "outputs": [],
   "source": [
    "cats = ['drama', 'comedy', 'horror']\n",
    "df = df[df.genre.isin(cats)]"
   ]
  },
  {
   "cell_type": "code",
   "execution_count": 199,
   "metadata": {},
   "outputs": [
    {
     "data": {
      "text/plain": [
       "array(['drama', 'comedy', 'horror'], dtype=object)"
      ]
     },
     "execution_count": 199,
     "metadata": {},
     "output_type": "execute_result"
    }
   ],
   "source": [
    "df['genre'].unique()"
   ]
  },
  {
   "cell_type": "code",
   "execution_count": 200,
   "metadata": {},
   "outputs": [
    {
     "data": {
      "image/png": "[encoded data removed]",
      "text/plain": [
       "<Figure size 432x288 with 1 Axes>"
      ]
     },
     "metadata": {
      "needs_background": "light"
     },
     "output_type": "display_data"
    }
   ],
   "source": [
    "import matplotlib.pyplot as plt\n",
    "\n",
    "fig, ax = plt.subplots()\n",
    "fig.suptitle(\"genre\", fontsize=12)\n",
    "df[\"genre\"].reset_index().groupby(\"genre\").count().sort_values(by=\"index\").plot(kind=\"barh\", legend=False, ax=ax).grid(axis='x')\n",
    "plt.show()"
   ]
  },
  {
   "cell_type": "code",
   "execution_count": 201,
   "metadata": {},
   "outputs": [],
   "source": [
    "import nltk, re\n",
    "\n",
    "def preprocess_sentence(text, stemm=False, lemm=True, stopwords=None): # process one sentence\n",
    "    # lowercase -> strip -> tokenize -> remove stopwords -> stemm / lemm -> untokenize \n",
    "\n",
    "    # lower & strip\n",
    "    text = text = re.sub(r'[^\\w\\s]', '', str(text).lower().strip())\n",
    "            \n",
    "    # tokenize (convert from string to list)\n",
    "    text_tokens = text.split()\n",
    "    \n",
    "    # remove garbage\n",
    "    text_tokens = [word.lower().strip('!\"#$%&()*+,-./:;<=>?@[\\\\]^_`{|}~\\t\\n') for word in text_tokens]\n",
    "\n",
    "    # remove stopwords\n",
    "    if stopwords is not None:\n",
    "        text_tokens = [word for word in text_tokens if word not in stopwords]\n",
    "                \n",
    "    ## stemming\n",
    "    if stemm:\n",
    "        ps = nltk.stem.porter.PorterStemmer()\n",
    "        text_tokens = [ps.stem(word) for word in text_tokens]\n",
    "                \n",
    "    # lemmatisation \n",
    "    if lemm:\n",
    "        lem = nltk.stem.wordnet.WordNetLemmatizer()\n",
    "        text_tokens = [lem.lemmatize(word) for word in text_tokens]\n",
    "        \n",
    "    # back to string from list\n",
    "    text = \" \".join(text_tokens)\n",
    "    \n",
    "    return text\n",
    "\n",
    "def preprocess_text(text, stopwords): \n",
    "    \n",
    "    # split sentences \n",
    "    sentences = text.split('.')\n",
    "    \n",
    "    # process each sentence\n",
    "    sentences = [preprocess_sentence(s, stopwords=stopwords) for s in sentences]\n",
    "    \n",
    "    result = \". \".join(sentences)\n",
    "    return result\n",
    "    "
   ]
  },
  {
   "cell_type": "code",
   "execution_count": 202,
   "metadata": {},
   "outputs": [
    {
     "data": {
      "text/plain": [
       "['i', 'me', 'my', 'myself', 'we', 'our', 'ours', 'ourselves', 'you', \"you're\"]"
      ]
     },
     "execution_count": 202,
     "metadata": {},
     "output_type": "execute_result"
    }
   ],
   "source": [
    "nltk_stopwords = nltk.corpus.stopwords.words(\"english\")\n",
    "nltk_stopwords[:10]"
   ]
  },
  {
   "cell_type": "code",
   "execution_count": 203,
   "metadata": {},
   "outputs": [
    {
     "data": {
      "text/plain": [
       "'Listening in to a conversation between his doctor and parents, 10-year-old Oscar learns what nobody has the courage to tell him. He only has a few weeks to live. Furious, he refuses to speak to anyone except straight-talking Rose, the lady in pink he meets on the hospital stairs. As Christmas approaches, Rose uses her fantastical experiences as a professional wrestler, her imagination, wit and charm to allow Oscar to live life and love to the full, in the company of his friends Pop Corn, Einstein, Bacon and childhood sweetheart Peggy Blue.'"
      ]
     },
     "execution_count": 203,
     "metadata": {},
     "output_type": "execute_result"
    }
   ],
   "source": [
    "df['description'][0]"
   ]
  },
  {
   "cell_type": "code",
   "execution_count": 204,
   "metadata": {},
   "outputs": [
    {
     "data": {
      "text/plain": [
       "'listening conversation doctor parent 10yearold oscar learns nobody courage tell. week live. furious refuse speak anyone except straighttalking rose lady pink meet hospital stair. christmas approach rose us fantastical experience professional wrestler imagination wit charm allow oscar live life love full company friend pop corn einstein bacon childhood sweetheart peggy blue. '"
      ]
     },
     "execution_count": 204,
     "metadata": {},
     "output_type": "execute_result"
    }
   ],
   "source": [
    "preprocess_text(df['description'][0], stopwords=nltk_stopwords)"
   ]
  },
  {
   "cell_type": "markdown",
   "metadata": {},
   "source": [
    "##### Add 'processed' column to df"
   ]
  },
  {
   "cell_type": "code",
   "execution_count": 205,
   "metadata": {},
   "outputs": [],
   "source": [
    "df[\"processed\"] = df[\"description\"].apply(lambda x: preprocess_text(x, stopwords=nltk_stopwords))"
   ]
  },
  {
   "cell_type": "code",
   "execution_count": 206,
   "metadata": {},
   "outputs": [
    {
     "data": {
      "text/html": [
       "<div>\n",
       "<style scoped>\n",
       "    .dataframe tbody tr th:only-of-type {\n",
       "        vertical-align: middle;\n",
       "    }\n",
       "\n",
       "    .dataframe tbody tr th {\n",
       "        vertical-align: top;\n",
       "    }\n",
       "\n",
       "    .dataframe thead th {\n",
       "        text-align: right;\n",
       "    }\n",
       "</style>\n",
       "<table border=\"1\" class=\"dataframe\">\n",
       "  <thead>\n",
       "    <tr style=\"text-align: right;\">\n",
       "      <th></th>\n",
       "      <th>title</th>\n",
       "      <th>description</th>\n",
       "      <th>genre</th>\n",
       "      <th>processed</th>\n",
       "    </tr>\n",
       "  </thead>\n",
       "  <tbody>\n",
       "    <tr>\n",
       "      <th>0</th>\n",
       "      <td>Oscar et la dame rose (2009)</td>\n",
       "      <td>Listening in to a conversation between his doc...</td>\n",
       "      <td>drama</td>\n",
       "      <td>listening conversation doctor parent 10yearold...</td>\n",
       "    </tr>\n",
       "    <tr>\n",
       "      <th>3</th>\n",
       "      <td>The Secret Sin (1915)</td>\n",
       "      <td>To help their unemployed father make ends meet...</td>\n",
       "      <td>drama</td>\n",
       "      <td>help unemployed father make end meet edith twi...</td>\n",
       "    </tr>\n",
       "    <tr>\n",
       "      <th>4</th>\n",
       "      <td>The Unrecovered (2007)</td>\n",
       "      <td>The film's title refers not only to the un-rec...</td>\n",
       "      <td>drama</td>\n",
       "      <td>film title refers unrecovered body ground zero...</td>\n",
       "    </tr>\n",
       "    <tr>\n",
       "      <th>6</th>\n",
       "      <td>\"Pink Slip\" (2009)</td>\n",
       "      <td>In tough economic times Max and Joey have all ...</td>\n",
       "      <td>comedy</td>\n",
       "      <td>tough economic time max joey run idea discover...</td>\n",
       "    </tr>\n",
       "    <tr>\n",
       "      <th>9</th>\n",
       "      <td>Spirits (2014/I)</td>\n",
       "      <td>Four high school students embark on a terrifyi...</td>\n",
       "      <td>horror</td>\n",
       "      <td>four high school student embark terrifying jou...</td>\n",
       "    </tr>\n",
       "  </tbody>\n",
       "</table>\n",
       "</div>"
      ],
      "text/plain": [
       "                          title  \\\n",
       "0  Oscar et la dame rose (2009)   \n",
       "3         The Secret Sin (1915)   \n",
       "4        The Unrecovered (2007)   \n",
       "6            \"Pink Slip\" (2009)   \n",
       "9              Spirits (2014/I)   \n",
       "\n",
       "                                         description   genre  \\\n",
       "0  Listening in to a conversation between his doc...   drama   \n",
       "3  To help their unemployed father make ends meet...   drama   \n",
       "4  The film's title refers not only to the un-rec...   drama   \n",
       "6  In tough economic times Max and Joey have all ...  comedy   \n",
       "9  Four high school students embark on a terrifyi...  horror   \n",
       "\n",
       "                                           processed  \n",
       "0  listening conversation doctor parent 10yearold...  \n",
       "3  help unemployed father make end meet edith twi...  \n",
       "4  film title refers unrecovered body ground zero...  \n",
       "6  tough economic time max joey run idea discover...  \n",
       "9  four high school student embark terrifying jou...  "
      ]
     },
     "execution_count": 206,
     "metadata": {},
     "output_type": "execute_result"
    }
   ],
   "source": [
    "df.head()"
   ]
  },
  {
   "cell_type": "code",
   "execution_count": 207,
   "metadata": {},
   "outputs": [],
   "source": [
    "from sklearn import model_selection\n",
    "\n",
    "# split dataset\n",
    "df_train, df_test = model_selection.train_test_split(df, test_size=0.3)\n",
    "# get target\n",
    "y_train = df_train[\"genre\"].values\n",
    "y_test = df_test[\"genre\"].values"
   ]
  },
  {
   "cell_type": "markdown",
   "metadata": {},
   "source": [
    "### Prepare corpus for word2vec training [training set]\n"
   ]
  },
  {
   "cell_type": "code",
   "execution_count": 208,
   "metadata": {},
   "outputs": [
    {
     "data": {
      "text/plain": [
       "['young',\n",
       " 'country',\n",
       " 'girl',\n",
       " 'come',\n",
       " 'big',\n",
       " 'city',\n",
       " 'get',\n",
       " 'involved',\n",
       " 'unscrupulous',\n",
       " 'people',\n",
       " 'end',\n",
       " 'broke',\n",
       " 'stranded']"
      ]
     },
     "execution_count": 208,
     "metadata": {},
     "output_type": "execute_result"
    }
   ],
   "source": [
    "processed = df_train[\"processed\"]\n",
    "\n",
    "def tokenize_text(text_or_path, file_input=False): # find better solution for large scale texts (batch reading from os)\n",
    "   \n",
    "   text = ''\n",
    "   if file_input:\n",
    "      with open(text_or_path) as f:\n",
    "         text = f.read()\n",
    "         text = text.replace('\\n', '')\n",
    "   else:\n",
    "      text = text_or_path\n",
    "         \n",
    "   # tokenize text to sentences\n",
    "   sentences = text.split(sep='.')\n",
    "   sentences = [s.strip() for s in sentences]\n",
    "   \n",
    "   # tokenize sentences to words\n",
    "   sentences_tokenized = [s.split(sep=' ') for s in sentences]\n",
    "   \n",
    "   #for i, s in enumerate(sentences_tokenized):\n",
    "   #   sentences_tokenized[i] = [word.lower().strip('!\"#$%&()*+,-./:;<=>?@[\\\\]^_`{|}~\\t\\n') for word in s]\n",
    "      \n",
    "   return sentences_tokenized\n",
    "\n",
    "# tokenize all joined preprocessed descriptions\n",
    "corpus_tokenized = tokenize_text(''.join(processed))\n",
    "corpus_tokenized[0]"
   ]
  },
  {
   "cell_type": "code",
   "execution_count": 209,
   "metadata": {},
   "outputs": [
    {
     "data": {
      "text/plain": [
       "16284"
      ]
     },
     "execution_count": 209,
     "metadata": {},
     "output_type": "execute_result"
    }
   ],
   "source": [
    "len(processed)"
   ]
  },
  {
   "cell_type": "code",
   "execution_count": 210,
   "metadata": {},
   "outputs": [
    {
     "data": {
      "text/plain": [
       "88865"
      ]
     },
     "execution_count": 210,
     "metadata": {},
     "output_type": "execute_result"
    }
   ],
   "source": [
    "len(corpus_tokenized)"
   ]
  },
  {
   "cell_type": "markdown",
   "metadata": {},
   "source": [
    "## PREPARE NEW DESCRIPTION COLUMN FOR TRAINING."
   ]
  },
  {
   "cell_type": "markdown",
   "metadata": {},
   "source": [
    "### Add 'processed_as_sentences' column to df -> this column has processed descriptions(multisentence) joined into one sentence descritpions"
   ]
  },
  {
   "cell_type": "code",
   "execution_count": 211,
   "metadata": {},
   "outputs": [
    {
     "data": {
      "text/plain": [
       "'young country girl come big city get involved unscrupulous people end broke stranded  however friendly millionaire happens come along        '"
      ]
     },
     "execution_count": 211,
     "metadata": {},
     "output_type": "execute_result"
    }
   ],
   "source": [
    "processed = df_train[\"processed\"]\n",
    "\n",
    "def multi_sentence_to_one(multi_sen_arr): # find better solution for large scale texts (batch reading from os)\n",
    "    return [multi_sen.replace('.', ' ') for multi_sen in multi_sen_arr]\n",
    "\n",
    "# tokenize all joined preprocessed descriptions\n",
    "processed_as_sentences = multi_sentence_to_one(processed)\n",
    "len(processed_as_sentences)\n",
    "processed_as_sentences[0]"
   ]
  },
  {
   "cell_type": "code",
   "execution_count": 212,
   "metadata": {},
   "outputs": [],
   "source": [
    "df[\"desc_prepared\"] = df[\"processed\"].apply(lambda x: x.replace('.', ' '))"
   ]
  },
  {
   "cell_type": "code",
   "execution_count": 213,
   "metadata": {},
   "outputs": [],
   "source": [
    "descriptions_corpus = '.'.join(df[\"desc_prepared\"])"
   ]
  },
  {
   "cell_type": "markdown",
   "metadata": {},
   "source": [
    "#### fitting word2vec\n",
    "\n",
    "model is trained on the whole training corpus divided into sentences -> keeping words in their sentences to learn their meanings "
   ]
  },
  {
   "cell_type": "code",
   "execution_count": 214,
   "metadata": {},
   "outputs": [],
   "source": [
    "from gensim.models import Word2Vec\n",
    "nlp = None\n",
    "load = True\n",
    "\n",
    "#loading cell\n",
    "if load:\n",
    "    nlp = Word2Vec.load(\"three/word2vec.model\")\n",
    "else:\n",
    "    nlp = Word2Vec(sentences=corpus_tokenized, vector_size=300, window=8, workers=4, sg=1, epochs=30) # sg: 1-skip gram 0-cbow\n",
    "    nlp.save(\"three/word2vec.model\")\n"
   ]
  },
  {
   "cell_type": "code",
   "execution_count": 215,
   "metadata": {},
   "outputs": [
    {
     "data": {
      "text/plain": [
       "array([-0.06942783,  0.27525133,  0.12439331,  0.16781127, -0.2523476 ,\n",
       "       -0.25592536,  0.19220048,  0.27168217,  0.22203434,  0.05036501],\n",
       "      dtype=float32)"
      ]
     },
     "execution_count": 215,
     "metadata": {},
     "output_type": "execute_result"
    }
   ],
   "source": [
    "nlp.wv['man'][:10]"
   ]
  },
  {
   "cell_type": "markdown",
   "metadata": {},
   "source": [
    "# visualisation"
   ]
  },
  {
   "cell_type": "code",
   "execution_count": 216,
   "metadata": {},
   "outputs": [
    {
     "name": "stderr",
     "output_type": "stream",
     "text": [
      "c:\\source\\ai-nlp\\env\\lib\\site-packages\\sklearn\\manifold\\_t_sne.py:790: FutureWarning: The default learning rate in TSNE will change from 200.0 to 'auto' in 1.2.\n",
      "  warnings.warn(\n",
      "c:\\source\\ai-nlp\\env\\lib\\site-packages\\sklearn\\manifold\\_t_sne.py:982: FutureWarning: The PCA initialization in TSNE will change to have the standard deviation of PC1 equal to 1e-4 in 1.2. This will ensure better convergence.\n",
      "  warnings.warn(\n",
      "C:\\Users\\Kamil\\AppData\\Local\\Temp\\ipykernel_19276\\1131722588.py:15: SettingWithCopyWarning: \n",
      "A value is trying to be set on a copy of a slice from a DataFrame\n",
      "\n",
      "See the caveats in the documentation: https://pandas.pydata.org/pandas-docs/stable/user_guide/indexing.html#returning-a-view-versus-a-copy\n",
      "  dtf_[\"input\"].iloc[0:1] = 1\n"
     ]
    },
    {
     "data": {
      "image/png": "[encoded data removed]",
      "text/plain": [
       "<Figure size 432x288 with 1 Axes>"
      ]
     },
     "metadata": {
      "needs_background": "light"
     },
     "output_type": "display_data"
    }
   ],
   "source": [
    "from sklearn import manifold\n",
    "\n",
    "word = \"money\"\n",
    "fig = plt.figure()\n",
    "## word embedding\n",
    "tot_words = [word] + [tupla[0] for tupla in nlp.wv.most_similar(word, topn=10)]\n",
    "X = nlp.wv[tot_words]\n",
    "\n",
    "## pca to reduce dimensionality from 300 to 3\n",
    "pca = manifold.TSNE(perplexity=40, n_components=3, init='pca')\n",
    "X = pca.fit_transform(X)\n",
    "## create dtf\n",
    "dtf_ = pd.DataFrame(X, index=tot_words, columns=[\"x\",\"y\",\"z\"])\n",
    "dtf_[\"input\"] = 0\n",
    "dtf_[\"input\"].iloc[0:1] = 1\n",
    "## plot 3d\n",
    "from mpl_toolkits.mplot3d import Axes3D\n",
    "ax = fig.add_subplot(111, projection='3d')\n",
    "ax.scatter(dtf_[dtf_[\"input\"]==0]['x'], \n",
    "           dtf_[dtf_[\"input\"]==0]['y'], \n",
    "           dtf_[dtf_[\"input\"]==0]['z'], c=\"black\")\n",
    "ax.scatter(dtf_[dtf_[\"input\"]==1]['x'], \n",
    "           dtf_[dtf_[\"input\"]==1]['y'], \n",
    "           dtf_[dtf_[\"input\"]==1]['z'], c=\"red\")\n",
    "ax.set(xlabel=None, ylabel=None, zlabel=None, xticklabels=[], \n",
    "       yticklabels=[], zticklabels=[])\n",
    "for label, row in dtf_[[\"x\",\"y\",\"z\"]].iterrows():\n",
    "    x, y, z = row\n",
    "    ax.text(x, y, z, s=label)"
   ]
  },
  {
   "cell_type": "markdown",
   "metadata": {},
   "source": [
    "### TRANSFORM PREPROCESSED CORPUS INTO LIST OF SEQUENCES"
   ]
  },
  {
   "cell_type": "markdown",
   "metadata": {},
   "source": [
    "Teraz stworzony zostanie słownik dla corpusu który powstał z opisów zbioru treningowego. W tym słowniku każde słowo z korpusu dostanie swój indeks. Następnie za pomocą tych indeksów przedstawione zostaną sentencje zawierające się w opisach."
   ]
  },
  {
   "cell_type": "markdown",
   "metadata": {},
   "source": [
    "create dictionary from training set descriptions. In this dictionary each words gets its own index"
   ]
  },
  {
   "cell_type": "code",
   "execution_count": 217,
   "metadata": {},
   "outputs": [
    {
     "data": {
      "text/plain": [
       "0        listening conversation doctor parent 10yearold...\n",
       "3        help unemployed father make end meet edith twi...\n",
       "4        film title refers unrecovered body ground zero...\n",
       "6        tough economic time max joey run idea discover...\n",
       "9        four high school student embark terrifying jou...\n",
       "                               ...                        \n",
       "54200    father savagely assaulted family lumberyard pa...\n",
       "54207    man woman meet identification spouse dead body...\n",
       "54209    shortlived nbc live sitcom centered bonino wor...\n",
       "54210    next generation exploitation. sister kapa bay ...\n",
       "54212    walter vivian live country difficult time keep...\n",
       "Name: processed, Length: 23264, dtype: object"
      ]
     },
     "execution_count": 217,
     "metadata": {},
     "output_type": "execute_result"
    }
   ],
   "source": [
    "df.processed"
   ]
  },
  {
   "cell_type": "code",
   "execution_count": 218,
   "metadata": {},
   "outputs": [],
   "source": [
    "from tensorflow.keras import preprocessing as k_preprocessing\n",
    "\n",
    "# tokenize vocab\n",
    "tokenizer = k_preprocessing.text.Tokenizer(lower=True, split=' ', oov_token=\"NaN\", filters='!\"#$%&()*+,-./:;<=>?@[\\\\]^_`{|}~\\t\\n')\n",
    "tokenizer.fit_on_texts(df_train.processed) # corpus_tokenized can be tested as well\n",
    "dic_vocabulary = tokenizer.word_index"
   ]
  },
  {
   "cell_type": "code",
   "execution_count": 219,
   "metadata": {},
   "outputs": [
    {
     "name": "stdout",
     "output_type": "stream",
     "text": [
      "66166\n",
      "becomes 51\n",
      "end 52\n"
     ]
    }
   ],
   "source": [
    "print(len(dic_vocabulary.keys()))\n",
    "\n",
    "for key in list(dic_vocabulary.keys())[50:52]:\n",
    "    print(key, dic_vocabulary[key])\n"
   ]
  },
  {
   "cell_type": "markdown",
   "metadata": {},
   "source": [
    "#### map words in sentences to indexes in deictionary"
   ]
  },
  {
   "cell_type": "code",
   "execution_count": 220,
   "metadata": {},
   "outputs": [
    {
     "data": {
      "text/plain": [
       "16284"
      ]
     },
     "execution_count": 220,
     "metadata": {},
     "output_type": "execute_result"
    }
   ],
   "source": [
    "# create sequence of dictionary ids in place of words\n",
    "lst_text2seq = tokenizer.texts_to_sequences(df_train.processed)\n",
    "lst_text2seq[4]\n",
    "len(lst_text2seq)"
   ]
  },
  {
   "cell_type": "markdown",
   "metadata": {},
   "source": [
    "#### pad sentences to equal length -> number of features (words) for each intput"
   ]
  },
  {
   "cell_type": "code",
   "execution_count": 221,
   "metadata": {},
   "outputs": [
    {
     "data": {
      "text/plain": [
       "array([[    8,   156,    19, ...,     0,     0,     0],\n",
       "       [ 2696, 16444,  5764, ...,     0,     0,     0],\n",
       "       [23988,  4312, 33270, ...,    36,  4536,  3099],\n",
       "       ...,\n",
       "       [10199,    52, 18208, ...,    28,   109,     3],\n",
       "       [11833,  1539,   548, ...,     0,     0,     0],\n",
       "       [ 9361,  2807,   281, ...,     0,     0,     0]])"
      ]
     },
     "execution_count": 221,
     "metadata": {},
     "output_type": "execute_result"
    }
   ],
   "source": [
    "# padding sequence      \n",
    "X_train = k_preprocessing.sequence.pad_sequences(lst_text2seq, \n",
    "                    maxlen=40, padding=\"post\", truncating=\"post\")\n",
    "X_train"
   ]
  },
  {
   "cell_type": "code",
   "execution_count": 222,
   "metadata": {},
   "outputs": [
    {
     "data": {
      "text/plain": [
       "(16284, 40)"
      ]
     },
     "execution_count": 222,
     "metadata": {},
     "output_type": "execute_result"
    }
   ],
   "source": [
    "X_train.shape"
   ]
  },
  {
   "cell_type": "markdown",
   "metadata": {},
   "source": [
    "### Feature matrix for each sentence (i.e. lengths of sentences)"
   ]
  },
  {
   "cell_type": "code",
   "execution_count": 223,
   "metadata": {},
   "outputs": [
    {
     "data": {
      "image/png": "[encoded data removed]",
      "text/plain": [
       "<Figure size 432x288 with 1 Axes>"
      ]
     },
     "metadata": {
      "needs_background": "light"
     },
     "output_type": "display_data"
    }
   ],
   "source": [
    "import seaborn as sns\n",
    "sns.heatmap(X_train==0, vmin=0, vmax=1, cbar=False)\n",
    "plt.show()"
   ]
  },
  {
   "cell_type": "markdown",
   "metadata": {},
   "source": [
    "### Prepare feature matrix for X_test"
   ]
  },
  {
   "cell_type": "code",
   "execution_count": 224,
   "metadata": {},
   "outputs": [
    {
     "data": {
      "text/plain": [
       "6980"
      ]
     },
     "execution_count": 224,
     "metadata": {},
     "output_type": "execute_result"
    }
   ],
   "source": [
    "# create sequence of dictionary ids in place of words\n",
    "lst_text2seq = tokenizer.texts_to_sequences(df_test.processed)\n",
    "len(lst_text2seq)"
   ]
  },
  {
   "cell_type": "code",
   "execution_count": 225,
   "metadata": {},
   "outputs": [
    {
     "data": {
      "text/plain": [
       "array([[12741,     1, 23149, ...,  4698,  2550,   279],\n",
       "       [ 9570,  2677, 64623, ...,  8243,     0,     0],\n",
       "       [13967,   463,   215, ...,  1211,   730, 26835],\n",
       "       ...,\n",
       "       [   58,    90,   117, ...,     0,     0,     0],\n",
       "       [    1, 11061,    30, ...,  2109,  7171,  6416],\n",
       "       [   13,  4445,    25, ...,     0,     0,     0]])"
      ]
     },
     "execution_count": 225,
     "metadata": {},
     "output_type": "execute_result"
    }
   ],
   "source": [
    "# padding sequence      \n",
    "X_test = k_preprocessing.sequence.pad_sequences(lst_text2seq, \n",
    "                    maxlen=40, padding=\"post\", truncating=\"post\")\n",
    "X_test"
   ]
  },
  {
   "cell_type": "code",
   "execution_count": 226,
   "metadata": {},
   "outputs": [
    {
     "data": {
      "text/plain": [
       "(6980, 40)"
      ]
     },
     "execution_count": 226,
     "metadata": {},
     "output_type": "execute_result"
    }
   ],
   "source": [
    "X_test.shape"
   ]
  },
  {
   "cell_type": "markdown",
   "metadata": {},
   "source": [
    "### Feature matrix for each sentence (i.e. lengths of sentences)"
   ]
  },
  {
   "cell_type": "code",
   "execution_count": 227,
   "metadata": {},
   "outputs": [
    {
     "data": {
      "image/png": "[encoded data removed]",
      "text/plain": [
       "<Figure size 432x288 with 1 Axes>"
      ]
     },
     "metadata": {
      "needs_background": "light"
     },
     "output_type": "display_data"
    }
   ],
   "source": [
    "import seaborn as sns\n",
    "sns.heatmap(X_test==0, vmin=0, vmax=1, cbar=False)\n",
    "plt.show()"
   ]
  },
  {
   "cell_type": "markdown",
   "metadata": {},
   "source": [
    "### Create the matrix of embedding (weight matrix)"
   ]
  },
  {
   "cell_type": "code",
   "execution_count": 228,
   "metadata": {},
   "outputs": [],
   "source": [
    "import numpy as np\n",
    "\n",
    "## start the matrix (length of vocabulary x vector size) with all 0s\n",
    "embeddings = np.zeros((len(dic_vocabulary)+1, 300))\n",
    "for word,idx in dic_vocabulary.items():\n",
    "    ## update the row with vector\n",
    "    try:\n",
    "        embeddings[idx] =  nlp.wv[word]\n",
    "    ## if word not in model then skip and the row stays all 0s\n",
    "    except:\n",
    "        pass"
   ]
  },
  {
   "cell_type": "code",
   "execution_count": 229,
   "metadata": {},
   "outputs": [
    {
     "data": {
      "text/plain": [
       "(300,)"
      ]
     },
     "execution_count": 229,
     "metadata": {},
     "output_type": "execute_result"
    }
   ],
   "source": [
    "idx = dic_vocabulary['dog']\n",
    "embeddings[idx].shape"
   ]
  },
  {
   "cell_type": "markdown",
   "metadata": {},
   "source": [
    "## Prepare TF layers model"
   ]
  },
  {
   "cell_type": "code",
   "execution_count": 230,
   "metadata": {},
   "outputs": [
    {
     "data": {
      "text/plain": [
       "(66167, 300)"
      ]
     },
     "execution_count": 230,
     "metadata": {},
     "output_type": "execute_result"
    }
   ],
   "source": [
    "embeddings.shape"
   ]
  },
  {
   "cell_type": "code",
   "execution_count": 231,
   "metadata": {},
   "outputs": [],
   "source": [
    "from tensorflow.keras import models, layers\n",
    "\n",
    "\n",
    "def get_model(verbose = False):\n",
    "    x_input_layer = layers.Input(shape=(40,))\n",
    "\n",
    "    # embedding\n",
    "    x_layers = layers.Embedding(input_dim=embeddings.shape[0],\n",
    "                                output_dim=embeddings.shape[1],\n",
    "                                weights=[embeddings],\n",
    "                                input_length=40, trainable=False)(x_input_layer)\n",
    "\n",
    "    # calculations\n",
    "    x_layers = layers.Bidirectional(layers.LSTM(units=15, dropout=0.2, \n",
    "                            return_sequences=True))(x_layers)\n",
    "    x_layers = layers.Bidirectional(layers.LSTM(units=15, dropout=0.2))(x_layers)\n",
    "\n",
    "    # activation\n",
    "\n",
    "    x_layers = layers.Dense(64, activation='relu')(x_layers)\n",
    "    y_out = layers.Dense(len(cats), activation='softmax')(x_layers)\n",
    "\n",
    "    # create model\n",
    "\n",
    "    model = models.Model(x_input_layer, y_out)\n",
    "    model.compile(loss='sparse_categorical_crossentropy',\n",
    "                optimizer='adam', metrics=['accuracy'])\n",
    "    \n",
    "    if verbose:\n",
    "        model.summary()\n",
    "    \n",
    "    return model\n"
   ]
  },
  {
   "cell_type": "markdown",
   "metadata": {},
   "source": [
    "## Encode categories"
   ]
  },
  {
   "cell_type": "code",
   "execution_count": 232,
   "metadata": {},
   "outputs": [
    {
     "data": {
      "text/plain": [
       "array(['comedy', 'drama', 'horror'], dtype=object)"
      ]
     },
     "execution_count": 232,
     "metadata": {},
     "output_type": "execute_result"
    }
   ],
   "source": [
    "np.unique(y_train)"
   ]
  },
  {
   "cell_type": "code",
   "execution_count": 233,
   "metadata": {},
   "outputs": [],
   "source": [
    "categories_dict = {label:n for n,label in \n",
    "                   enumerate(cats)}\n",
    "\n",
    "# map categories to numbers\n",
    "y_train = np.array([categories_dict[y] for y in y_train])"
   ]
  },
  {
   "cell_type": "code",
   "execution_count": 234,
   "metadata": {},
   "outputs": [
    {
     "data": {
      "text/plain": [
       "array([0, 0, 0, ..., 0, 0, 1])"
      ]
     },
     "execution_count": 234,
     "metadata": {},
     "output_type": "execute_result"
    }
   ],
   "source": [
    "y_train"
   ]
  },
  {
   "cell_type": "markdown",
   "metadata": {},
   "source": [
    "## Train model"
   ]
  },
  {
   "cell_type": "code",
   "execution_count": 235,
   "metadata": {},
   "outputs": [],
   "source": [
    "from tensorflow.keras.models import load_model\n",
    "\n",
    "training = None\n",
    "model = None\n",
    "load = True\n",
    "\n",
    "#loading cell\n",
    "if load:\n",
    "    # load here\n",
    "    model = load_model('three/keras_model')\n",
    "else:\n",
    "    model = get_model()\n",
    "    training = model.fit(x=X_train, y=y_train, batch_size=256, \n",
    "                        epochs=10, shuffle=True, verbose=0, \n",
    "                        validation_split=0.3)\n",
    "    model.save(\"three/keras_model\")"
   ]
  },
  {
   "cell_type": "code",
   "execution_count": null,
   "metadata": {},
   "outputs": [
    {
     "data": {
      "image/png": "[encoded data removed]",
      "text/plain": [
       "<Figure size 432x288 with 4 Axes>"
      ]
     },
     "metadata": {
      "needs_background": "light"
     },
     "output_type": "display_data"
    }
   ],
   "source": [
    "metrics = [k for k in training.history.keys() if (\"loss\" not in k) and (\"val\" not in k)]\n",
    "\n",
    "fig, ax = plt.subplots(nrows=1, ncols=2, sharey=True)\n",
    "ax[0].set(title=\"Training\")\n",
    "ax11 = ax[0].twinx()\n",
    "ax[0].plot(training.history['loss'], color='black')\n",
    "ax[0].set_xlabel('Epochs')\n",
    "ax[0].set_ylabel('Loss', color='black')\n",
    "for metric in metrics:\n",
    "    ax11.plot(training.history[metric], label=metric)\n",
    "ax11.set_ylabel(\"Score\", color='steelblue')\n",
    "ax11.legend()\n",
    "ax[1].set(title=\"Validation\")\n",
    "ax22 = ax[1].twinx()\n",
    "ax[1].plot(training.history['val_loss'], color='black')\n",
    "ax[1].set_xlabel('Epochs')\n",
    "ax[1].set_ylabel('Loss', color='black')\n",
    "for metric in metrics:\n",
    "     ax22.plot(training.history['val_'+metric], label=metric)\n",
    "ax22.set_ylabel(\"Score\", color=\"steelblue\")\n",
    "plt.show()"
   ]
  },
  {
   "cell_type": "code",
   "execution_count": null,
   "metadata": {},
   "outputs": [],
   "source": [
    "categories_dict_inversed = {v:k for k,v in categories_dict.items()}"
   ]
  },
  {
   "cell_type": "code",
   "execution_count": null,
   "metadata": {},
   "outputs": [],
   "source": [
    "## test\n",
    "predicted_prob = model.predict(X_test)\n",
    "predicted = [categories_dict_inversed[np.argmax(pred)] for pred in predicted_prob]"
   ]
  },
  {
   "cell_type": "code",
   "execution_count": null,
   "metadata": {},
   "outputs": [
    {
     "data": {
      "text/plain": [
       "6980"
      ]
     },
     "execution_count": 48,
     "metadata": {},
     "output_type": "execute_result"
    }
   ],
   "source": [
    "len(y_test)"
   ]
  },
  {
   "cell_type": "code",
   "execution_count": null,
   "metadata": {},
   "outputs": [
    {
     "data": {
      "text/plain": [
       "6980"
      ]
     },
     "execution_count": 49,
     "metadata": {},
     "output_type": "execute_result"
    }
   ],
   "source": [
    "len(predicted)"
   ]
  },
  {
   "cell_type": "code",
   "execution_count": null,
   "metadata": {},
   "outputs": [
    {
     "name": "stdout",
     "output_type": "stream",
     "text": [
      "[[1530  682   26]\n",
      " [ 601 3414   54]\n",
      " [  79  180  414]]\n"
     ]
    }
   ],
   "source": [
    "from sklearn.metrics import confusion_matrix\n",
    "conf_matrix = confusion_matrix(y_test, predicted)\n",
    "print(conf_matrix)"
   ]
  },
  {
   "cell_type": "code",
   "execution_count": null,
   "metadata": {},
   "outputs": [
    {
     "data": {
      "text/plain": [
       "<AxesSubplot:>"
      ]
     },
     "execution_count": 84,
     "metadata": {},
     "output_type": "execute_result"
    },
    {
     "data": {
      "image/png": "[encoded data removed]",
      "text/plain": [
       "<Figure size 432x288 with 2 Axes>"
      ]
     },
     "metadata": {
      "needs_background": "light"
     },
     "output_type": "display_data"
    }
   ],
   "source": [
    "import seaborn as sb\n",
    "#correlogram\n",
    "sb.heatmap(conf_matrix, annot=True)"
   ]
  },
  {
   "cell_type": "code",
   "execution_count": null,
   "metadata": {},
   "outputs": [
    {
     "name": "stdout",
     "output_type": "stream",
     "text": [
      "[[0.68364611 0.30473637 0.01161752]\n",
      " [0.14770214 0.83902679 0.01327107]\n",
      " [0.11738484 0.26745914 0.61515602]]\n",
      "{'drama': 0, 'comedy': 1, 'horror': 2}\n"
     ]
    },
    {
     "data": {
      "text/plain": [
       "<AxesSubplot:>"
      ]
     },
     "execution_count": 86,
     "metadata": {},
     "output_type": "execute_result"
    },
    {
     "data": {
      "image/png": "[encoded data removed]",
      "text/plain": [
       "<Figure size 432x288 with 2 Axes>"
      ]
     },
     "metadata": {
      "needs_background": "light"
     },
     "output_type": "display_data"
    }
   ],
   "source": [
    "conf_matrix_as_percentage = conf_matrix\n",
    "\n",
    "conf_matrix_as_percentage = np.array([[num/np.sum(row) for num in row] for row in conf_matrix_as_percentage])\n",
    "print(conf_matrix_as_percentage)\n",
    "print(categories_dict)\n",
    "sb.heatmap(conf_matrix_as_percentage, annot=True)"
   ]
  },
  {
   "cell_type": "markdown",
   "metadata": {},
   "source": [
    "## Predicting user provided descriptions"
   ]
  },
  {
   "cell_type": "markdown",
   "metadata": {},
   "source": [
    "####  input -> process -> embed -> predict"
   ]
  },
  {
   "cell_type": "code",
   "execution_count": null,
   "metadata": {},
   "outputs": [],
   "source": [
    "def predict_film_category(description, verbose=False): # hardcoded for one input -> can be transformed to array of inputs easily\n",
    "    description_p = preprocess_sentence(description, stopwords=nltk_stopwords)\n",
    "    description_p = [description_p.split()]\n",
    "    \n",
    "    \n",
    "    if verbose:\n",
    "        d = description.split()\n",
    "        print(f'Input: {d}')\n",
    "        print(f'Processed: {description_p[0]}')\n",
    "        print(f'Input length: {len(d)}')\n",
    "        print(f'Processed length: {len(description_p[0])}')\n",
    "        print()\n",
    "        \n",
    "    # create sequence of dictionary ids in place of words\n",
    "    input_seq = tokenizer.texts_to_sequences(description_p)\n",
    "\n",
    "    # padding sequence      \n",
    "    input_seq = k_preprocessing.sequence.pad_sequences(input_seq, \n",
    "                        maxlen=40, padding=\"post\", truncating=\"post\")\n",
    "    \n",
    "    if verbose:\n",
    "        print(f'Padded sequence: {input_seq}')\n",
    "        \n",
    "    class_probability_dist = model.predict(input_seq)\n",
    "    prediction = categories_dict_inversed[np.argmax(class_probability_dist)]\n",
    "    \n",
    "        \n",
    "    if verbose:\n",
    "        for k in categories_dict.keys(): # padd to chars\n",
    "            print(k, end='\\t\\t')\n",
    "        print()\n",
    "        \n",
    "        for prob in class_probability_dist[0]:\n",
    "            print(prob, end='\\t')\n",
    "        print()\n",
    "        \n",
    "        print(f'Predicted category: {prediction}')\n",
    "        \n",
    "        \n",
    "    return prediction"
   ]
  },
  {
   "cell_type": "code",
   "execution_count": null,
   "metadata": {},
   "outputs": [
    {
     "name": "stdout",
     "output_type": "stream",
     "text": [
      "Input: ['A', 'special', 'military', 'unit', 'fights', 'a', 'powerful,', 'out-of-control', 'supercomputer', 'and', 'hundreds', 'of', 'scientists', 'who', 'have', 'mutated', 'into', 'flesh-eating', 'creatures', 'after', 'a', 'laboratory', 'accident.']\n",
      "Processed: ['special', 'military', 'unit', 'fight', 'powerful', 'outofcontrol', 'supercomputer', 'hundred', 'scientist', 'mutated', 'flesheating', 'creature', 'laboratory', 'accident']\n",
      "Input length: 23\n",
      "Processed length: 14\n",
      "\n",
      "Padded sequence: [[  433   725  2545   163   799 10155     1  1960  1411 12632 10669  1078\n",
      "   6488   253     0     0     0     0     0     0     0     0     0     0\n",
      "      0     0     0     0     0     0     0     0     0     0     0     0\n",
      "      0     0     0     0]]\n",
      "drama\t\tcomedy\t\thorror\t\t\n",
      "0.80361176\t0.18243241\t0.013955897\t\n",
      "Predicted category: drama\n"
     ]
    },
    {
     "data": {
      "text/plain": [
       "'drama'"
      ]
     },
     "execution_count": 196,
     "metadata": {},
     "output_type": "execute_result"
    }
   ],
   "source": [
    "predict_film_category('A special military unit fights a powerful, out-of-control supercomputer and hundreds of scientists who have mutated into flesh-eating creatures after a laboratory accident.', verbose=True)"
   ]
  },
  {
   "cell_type": "code",
   "execution_count": null,
   "metadata": {},
   "outputs": [
    {
     "name": "stdout",
     "output_type": "stream",
     "text": [
      "Input: ['A', 'story', 'about', 'young', 'man', 'named', 'James.', 'He', 'lives', 'with', 'his', 'mother', 'and', 'uncle', 'Joe.']\n",
      "Processed: ['story', 'young', 'man', 'named', 'james', 'life', 'mother', 'uncle', 'joe']\n",
      "Input length: 15\n",
      "Processed length: 9\n",
      "\n",
      "Padded sequence: [[ 11  10  12 160 497   2  25 339 568   0   0   0   0   0   0   0   0   0\n",
      "    0   0   0   0   0   0   0   0   0   0   0   0   0   0   0   0   0   0\n",
      "    0   0   0   0]]\n",
      "drama\t\tcomedy\t\thorror\t\t\n",
      "0.6289843\t0.358777\t0.012238729\t\n",
      "Predicted category: drama\n"
     ]
    },
    {
     "data": {
      "text/plain": [
       "'drama'"
      ]
     },
     "execution_count": 193,
     "metadata": {},
     "output_type": "execute_result"
    }
   ],
   "source": [
    "predict_film_category('A story about young man named James. He lives with his mother and uncle Joe.', verbose=True)\n"
   ]
  }
 ],
 "metadata": {
  "interpreter": {
   "hash": "0540841127bd4f9f233a78eb4c6401d83ea8c2d59a35cc03537afaae612d5616"
  },
  "kernelspec": {
   "display_name": "Python 3.8.6 ('env': venv)",
   "language": "python",
   "name": "python3"
  },
  "language_info": {
   "codemirror_mode": {
    "name": "ipython",
    "version": 3
   },
   "file_extension": ".py",
   "mimetype": "text/x-python",
   "name": "python",
   "nbconvert_exporter": "python",
   "pygments_lexer": "ipython3",
   "version": "3.8.6"
  },
  "orig_nbformat": 4
 },
 "nbformat": 4,
 "nbformat_minor": 2
}
